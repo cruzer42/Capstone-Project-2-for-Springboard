{
 "cells": [
  {
   "cell_type": "code",
   "execution_count": 1,
   "metadata": {},
   "outputs": [
    {
     "name": "stdout",
     "output_type": "stream",
     "text": [
      "Number of LinkedIn profiles found:\n",
      "1\n"
     ]
    }
   ],
   "source": [
    "import http.client, urllib.request, urllib.parse, urllib.error, base64\n",
    "import json\n",
    "import csv\n",
    "import pandas as pd\n",
    "\n",
    "names = pd.read_csv('NameList1.csv')\n",
    "companies = pd.read_csv('CriteriaList1.csv')\n",
    "\n",
    "YOUR_API_KEY = '9fffa2e7b9874dc0be029fe67f7b3cc6'\n",
    "\n",
    "linkedin = []\n",
    "\n",
    "for name, company in zip(names, companies): # zip to loop over names and companies simultaneously\n",
    "    \n",
    "    query = name + company\n",
    "    \n",
    "    try:\n",
    "        headers = {'Ocp-Apim-Subscription-Key': YOUR_API_KEY }\n",
    "        params = urllib.parse.urlencode({'q': query,'count': '2','mkt': 'us-US'}) # returns top 2 (German) results\n",
    "        conn = http.client.HTTPSConnection('api.cognitive.microsoft.com')\n",
    "        conn.request(\"GET\", \"/bing/v7.0/search?%s\" % params, \"{body}\", headers)\n",
    "        response = conn.getresponse()\n",
    "        data = response.read().decode('utf-8')\n",
    "        json_file = json.loads(data)\n",
    "        conn.close()\n",
    "\n",
    "        for result in json_file['webPages']['value']:\n",
    "            title = result['name']\n",
    "            if name.lower() in title.lower(): # checks if the name appears in the title\n",
    "                if 'linkedin.com/in/' in result['displayUrl']: # checks if the search result URL is a LI profile\n",
    "                    linkedin.append([name, company, result['displayUrl']])\n",
    "                    break\n",
    "                    \n",
    "    except Exception as e:\n",
    "        print(e)\n",
    "        continue\n",
    "        \n",
    "# Writing the results to a CSV file\n",
    "with open('linkedin.csv', 'w', newline='', encoding='utf-8') as f:\n",
    "    writer = csv.writer(f)\n",
    "    for row in linkedin:\n",
    "        writer.writerow(row)\n",
    "                \n",
    "print('Number of LinkedIn profiles found:')\n",
    "print(len(linkedin))\n"
   ]
  },
  {
   "cell_type": "code",
   "execution_count": 2,
   "metadata": {},
   "outputs": [
    {
     "data": {
      "text/plain": [
       "[['Khary Pryce',\n",
       "  ' Cornell',\n",
       "  'https://www.linkedin.com/in/khary-pryce-54347017a']]"
      ]
     },
     "execution_count": 2,
     "metadata": {},
     "output_type": "execute_result"
    }
   ],
   "source": [
    "linkedin"
   ]
  },
  {
   "cell_type": "code",
   "execution_count": 3,
   "metadata": {},
   "outputs": [
    {
     "data": {
      "text/html": [
       "<div>\n",
       "<style scoped>\n",
       "    .dataframe tbody tr th:only-of-type {\n",
       "        vertical-align: middle;\n",
       "    }\n",
       "\n",
       "    .dataframe tbody tr th {\n",
       "        vertical-align: top;\n",
       "    }\n",
       "\n",
       "    .dataframe thead th {\n",
       "        text-align: right;\n",
       "    }\n",
       "</style>\n",
       "<table border=\"1\" class=\"dataframe\">\n",
       "  <thead>\n",
       "    <tr style=\"text-align: right;\">\n",
       "      <th></th>\n",
       "      <th>Khary Pryce</th>\n",
       "    </tr>\n",
       "  </thead>\n",
       "  <tbody>\n",
       "  </tbody>\n",
       "</table>\n",
       "</div>"
      ],
      "text/plain": [
       "Empty DataFrame\n",
       "Columns: [Khary Pryce]\n",
       "Index: []"
      ]
     },
     "execution_count": 3,
     "metadata": {},
     "output_type": "execute_result"
    }
   ],
   "source": [
    "names"
   ]
  },
  {
   "cell_type": "code",
   "execution_count": null,
   "metadata": {},
   "outputs": [],
   "source": []
  },
  {
   "cell_type": "code",
   "execution_count": 4,
   "metadata": {},
   "outputs": [
    {
     "name": "stdout",
     "output_type": "stream",
     "text": [
      "Number of LinkedIn profiles found:\n",
      "0\n"
     ]
    }
   ],
   "source": [
    "names = pd.read_csv('NameList2.csv')\n",
    "companies = pd.read_csv('CriteriaList2.csv')\n",
    "\n",
    "YOUR_API_KEY = '9fffa2e7b9874dc0be029fe67f7b3cc6'\n",
    "\n",
    "linkedin = []\n",
    "\n",
    "for name, company in zip(names, companies): # zip to loop over names and companies simultaneously\n",
    "    \n",
    "    query = name + company\n",
    "    \n",
    "    try:\n",
    "        headers = {'Ocp-Apim-Subscription-Key': YOUR_API_KEY }\n",
    "        params = urllib.parse.urlencode({'q': query,'count': '2','mkt': 'us-US'}) # returns top 2 (German) results\n",
    "        conn = http.client.HTTPSConnection('api.cognitive.microsoft.com')\n",
    "        conn.request(\"GET\", \"/bing/v7.0/search?%s\" % params, \"{body}\", headers)\n",
    "        response = conn.getresponse()\n",
    "        data = response.read().decode('utf-8')\n",
    "        json_file = json.loads(data)\n",
    "        conn.close()\n",
    "\n",
    "        for result in json_file['webPages']['value']:\n",
    "            title = result['name']\n",
    "            if name.lower() in title.lower(): # checks if the name appears in the title\n",
    "                if 'linkedin.com/in/' in result['displayUrl']: # checks if the search result URL is a LI profile\n",
    "                    linkedin.append([name, company, result['displayUrl']])\n",
    "                    break\n",
    "                    \n",
    "    except Exception as e:\n",
    "        print(e)\n",
    "        continue\n",
    "        \n",
    "# Writing the results to a CSV file\n",
    "with open('linkedin.csv', 'w', newline='', encoding='utf-8') as f:\n",
    "    writer = csv.writer(f)\n",
    "    for row in linkedin:\n",
    "        writer.writerow(row)\n",
    "                \n",
    "print('Number of LinkedIn profiles found:')\n",
    "print(len(linkedin))\n"
   ]
  },
  {
   "cell_type": "code",
   "execution_count": 5,
   "metadata": {},
   "outputs": [
    {
     "data": {
      "text/html": [
       "<div>\n",
       "<style scoped>\n",
       "    .dataframe tbody tr th:only-of-type {\n",
       "        vertical-align: middle;\n",
       "    }\n",
       "\n",
       "    .dataframe tbody tr th {\n",
       "        vertical-align: top;\n",
       "    }\n",
       "\n",
       "    .dataframe thead th {\n",
       "        text-align: right;\n",
       "    }\n",
       "</style>\n",
       "<table border=\"1\" class=\"dataframe\">\n",
       "  <thead>\n",
       "    <tr style=\"text-align: right;\">\n",
       "      <th></th>\n",
       "      <th>name</th>\n",
       "    </tr>\n",
       "  </thead>\n",
       "  <tbody>\n",
       "    <tr>\n",
       "      <th>0</th>\n",
       "      <td>Megan Polnet</td>\n",
       "    </tr>\n",
       "    <tr>\n",
       "      <th>1</th>\n",
       "      <td>Valerie Ho</td>\n",
       "    </tr>\n",
       "    <tr>\n",
       "      <th>2</th>\n",
       "      <td>Katherine Nguyen</td>\n",
       "    </tr>\n",
       "    <tr>\n",
       "      <th>3</th>\n",
       "      <td>Khary Pryce</td>\n",
       "    </tr>\n",
       "    <tr>\n",
       "      <th>4</th>\n",
       "      <td>Maria Adiaconitei</td>\n",
       "    </tr>\n",
       "    <tr>\n",
       "      <th>5</th>\n",
       "      <td>Ana Elhom</td>\n",
       "    </tr>\n",
       "  </tbody>\n",
       "</table>\n",
       "</div>"
      ],
      "text/plain": [
       "                name\n",
       "0       Megan Polnet\n",
       "1         Valerie Ho\n",
       "2   Katherine Nguyen\n",
       "3        Khary Pryce\n",
       "4  Maria Adiaconitei\n",
       "5          Ana Elhom"
      ]
     },
     "execution_count": 5,
     "metadata": {},
     "output_type": "execute_result"
    }
   ],
   "source": [
    "names\n"
   ]
  },
  {
   "cell_type": "code",
   "execution_count": 6,
   "metadata": {},
   "outputs": [
    {
     "data": {
      "text/html": [
       "<div>\n",
       "<style scoped>\n",
       "    .dataframe tbody tr th:only-of-type {\n",
       "        vertical-align: middle;\n",
       "    }\n",
       "\n",
       "    .dataframe tbody tr th {\n",
       "        vertical-align: top;\n",
       "    }\n",
       "\n",
       "    .dataframe thead th {\n",
       "        text-align: right;\n",
       "    }\n",
       "</style>\n",
       "<table border=\"1\" class=\"dataframe\">\n",
       "  <thead>\n",
       "    <tr style=\"text-align: right;\">\n",
       "      <th></th>\n",
       "      <th>company</th>\n",
       "    </tr>\n",
       "  </thead>\n",
       "  <tbody>\n",
       "    <tr>\n",
       "      <th>0</th>\n",
       "      <td>Cornell</td>\n",
       "    </tr>\n",
       "    <tr>\n",
       "      <th>1</th>\n",
       "      <td>Cornell</td>\n",
       "    </tr>\n",
       "    <tr>\n",
       "      <th>2</th>\n",
       "      <td>Cornell</td>\n",
       "    </tr>\n",
       "    <tr>\n",
       "      <th>3</th>\n",
       "      <td>Cornell</td>\n",
       "    </tr>\n",
       "    <tr>\n",
       "      <th>4</th>\n",
       "      <td>Cornell</td>\n",
       "    </tr>\n",
       "    <tr>\n",
       "      <th>5</th>\n",
       "      <td>Cornell</td>\n",
       "    </tr>\n",
       "  </tbody>\n",
       "</table>\n",
       "</div>"
      ],
      "text/plain": [
       "    company\n",
       "0   Cornell\n",
       "1   Cornell\n",
       "2   Cornell\n",
       "3   Cornell\n",
       "4   Cornell\n",
       "5   Cornell"
      ]
     },
     "execution_count": 6,
     "metadata": {},
     "output_type": "execute_result"
    }
   ],
   "source": [
    "companies"
   ]
  },
  {
   "cell_type": "code",
   "execution_count": null,
   "metadata": {},
   "outputs": [],
   "source": []
  },
  {
   "cell_type": "code",
   "execution_count": null,
   "metadata": {},
   "outputs": [],
   "source": []
  },
  {
   "cell_type": "code",
   "execution_count": null,
   "metadata": {},
   "outputs": [],
   "source": []
  }
 ],
 "metadata": {
  "kernelspec": {
   "display_name": "Python 3",
   "language": "python",
   "name": "python3"
  },
  "language_info": {
   "codemirror_mode": {
    "name": "ipython",
    "version": 3
   },
   "file_extension": ".py",
   "mimetype": "text/x-python",
   "name": "python",
   "nbconvert_exporter": "python",
   "pygments_lexer": "ipython3",
   "version": "3.7.1"
  }
 },
 "nbformat": 4,
 "nbformat_minor": 2
}
