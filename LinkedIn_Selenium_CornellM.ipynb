{
 "cells": [
  {
   "cell_type": "code",
   "execution_count": 1,
   "metadata": {},
   "outputs": [],
   "source": [
    "from selenium import webdriver\n",
    "from selenium.webdriver.common.keys import Keys\n",
    "from parsel import Selector\n",
    "import pandas as pd\n",
    "import numpy as np\n",
    "import time\n",
    "EXE_PATH = r\"C:\\Users\\19145\\Downloads\\chromedriver_win32\\chromedriver.exe\"\n",
    "driver = webdriver.Chrome(executable_path=EXE_PATH)"
   ]
  },
  {
   "cell_type": "code",
   "execution_count": 2,
   "metadata": {},
   "outputs": [],
   "source": [
    "driver.get('https://www.linkedin.com')\n",
    "time.sleep(10)"
   ]
  },
  {
   "cell_type": "code",
   "execution_count": 3,
   "metadata": {},
   "outputs": [
    {
     "data": {
      "text/plain": [
       "<selenium.webdriver.remote.webelement.WebElement (session=\"a4c08c12768fd620f720f0fa18623c6c\", element=\"def70eea-31c1-467a-be4f-221416a7be5b\")>"
      ]
     },
     "execution_count": 3,
     "metadata": {},
     "output_type": "execute_result"
    }
   ],
   "source": [
    "driver.find_element_by_class_name(\"input\")"
   ]
  },
  {
   "cell_type": "code",
   "execution_count": 4,
   "metadata": {},
   "outputs": [
    {
     "data": {
      "text/plain": [
       "<selenium.webdriver.remote.webelement.WebElement (session=\"a4c08c12768fd620f720f0fa18623c6c\", element=\"3d8510b2-fe7f-49c9-8a26-80895aceb26a\")>"
      ]
     },
     "execution_count": 4,
     "metadata": {},
     "output_type": "execute_result"
    }
   ],
   "source": [
    "driver.find_element_by_name(\"session_key\")"
   ]
  },
  {
   "cell_type": "code",
   "execution_count": 5,
   "metadata": {},
   "outputs": [],
   "source": [
    "username = driver.find_element_by_name(\"session_key\")\n",
    "username.send_keys('xxxxxxxx')"
   ]
  },
  {
   "cell_type": "code",
   "execution_count": 6,
   "metadata": {},
   "outputs": [
    {
     "data": {
      "text/plain": [
       "<selenium.webdriver.remote.webelement.WebElement (session=\"a4c08c12768fd620f720f0fa18623c6c\", element=\"bd7c690e-25a2-40a2-a870-306f7744bec1\")>"
      ]
     },
     "execution_count": 6,
     "metadata": {},
     "output_type": "execute_result"
    }
   ],
   "source": [
    "driver.find_element_by_name(\"session_password\")"
   ]
  },
  {
   "cell_type": "code",
   "execution_count": 7,
   "metadata": {},
   "outputs": [],
   "source": [
    "password = driver.find_element_by_name(\"session_password\")\n",
    "password.send_keys('xxxxxxxx')"
   ]
  },
  {
   "cell_type": "code",
   "execution_count": 8,
   "metadata": {},
   "outputs": [],
   "source": [
    "driver.find_element_by_class_name(\"sign-in-form__footer\")\n",
    "log_in_button = driver.find_element_by_class_name(\"sign-in-form__submit-btn\")\n",
    "log_in_button.click()"
   ]
  },
  {
   "cell_type": "code",
   "execution_count": 9,
   "metadata": {},
   "outputs": [],
   "source": [
    "driver.find_element_by_class_name(\"search-global-typeahead__input.always-show-placeholder\")\n",
    "searchname = driver.find_element_by_class_name(\"search-global-typeahead__input.always-show-placeholder\")"
   ]
  },
  {
   "cell_type": "code",
   "execution_count": 10,
   "metadata": {},
   "outputs": [],
   "source": [
    "searchname.send_keys('Eric Cruz Cornell')\n"
   ]
  },
  {
   "cell_type": "code",
   "execution_count": 11,
   "metadata": {},
   "outputs": [],
   "source": [
    "driver.find_element_by_class_name(\"search-global-typeahead__controls\")\n",
    "clicksearch = driver.find_element_by_class_name(\"search-global-typeahead__controls\")\n",
    "clicksearch.click()\n",
    "time.sleep(10)"
   ]
  },
  {
   "cell_type": "code",
   "execution_count": 12,
   "metadata": {},
   "outputs": [],
   "source": [
    "driver.find_element_by_xpath('//span[@class=\"name actor-name\"]').click()\n",
    "time.sleep(1)"
   ]
  },
  {
   "cell_type": "code",
   "execution_count": 13,
   "metadata": {},
   "outputs": [],
   "source": [
    "searchresult=[]\n",
    "name=[]\n",
    "headline=[]\n",
    "location=[]\n",
    "company=[]\n",
    "school=[]\n",
    "activities=[]"
   ]
  },
  {
   "cell_type": "code",
   "execution_count": 14,
   "metadata": {},
   "outputs": [],
   "source": [
    "searchresult = driver.current_url\n",
    "searchresult\n",
    "time.sleep(1)"
   ]
  },
  {
   "cell_type": "code",
   "execution_count": 15,
   "metadata": {},
   "outputs": [],
   "source": [
    "sel=Selector(text=driver.page_source)\n",
    "name = sel.xpath('//*[starts-with(@class, \"inline t-24\")]/text()').extract_first()\n",
    "name = name.strip()\n",
    "#time.sleep(5)\n",
    "#name.append(name)\n",
    "headline = sel.xpath('//*[starts-with(@class, \"mt1 t-18\")]/text()').extract_first()\n",
    "headline = headline.strip()\n",
    "#time.sleep(5)\n",
    "#headline.append(headline)\n",
    "location = sel.xpath('//*[starts-with(@class, \"t-16\")]/text()').extract_first()\n",
    "location = location.strip()\n",
    "time.sleep(5)\n",
    "#location.append(location)\n",
    "company = sel.xpath('//*[starts-with(@class, \"pv-entity__secondary-title\")]/text()').extract_first()\n",
    "if company is None:\n",
    "    company = \"Not Found\"\n",
    "company = company.strip()\n",
    "#time.sleep(5)\n",
    "#company.append(company)\n",
    "school = sel.xpath('//*[starts-with(@class, \"pv-entity__school-name\")]/text()').getall()\n",
    "#school.append(school)\n",
    "#time.sleep(5)\n",
    "activities = sel.xpath('//*[starts-with(@class, \"activities-societies\")]/text()').getall()\n",
    "#activities.append(activities)\n",
    "#time.sleep(5)"
   ]
  },
  {
   "cell_type": "code",
   "execution_count": 16,
   "metadata": {},
   "outputs": [],
   "source": [
    "#activities = sel.xpath('//*[starts-with(@class, \"activities-societies\")]/text()').getall()"
   ]
  },
  {
   "cell_type": "code",
   "execution_count": 17,
   "metadata": {},
   "outputs": [],
   "source": [
    "#activities"
   ]
  },
  {
   "cell_type": "code",
   "execution_count": 18,
   "metadata": {},
   "outputs": [],
   "source": [
    "#company = sel.xpath('//*[starts-with(@class, \"pv-entity__secondary-title\")]/text()').getall()\n",
    "#company"
   ]
  },
  {
   "cell_type": "code",
   "execution_count": 19,
   "metadata": {},
   "outputs": [],
   "source": [
    "#school = sel.xpath('//*[starts-with(@class, \"pv-entity__school-name\")]/text()').getall()\n",
    "#school"
   ]
  },
  {
   "cell_type": "code",
   "execution_count": 20,
   "metadata": {},
   "outputs": [],
   "source": [
    "#headline = sel.xpath('//*[starts-with(@class, \"mt1 t-18\")]/text()').extract_first()\n",
    "#headline\n"
   ]
  },
  {
   "cell_type": "code",
   "execution_count": null,
   "metadata": {},
   "outputs": [],
   "source": []
  },
  {
   "cell_type": "code",
   "execution_count": 21,
   "metadata": {},
   "outputs": [],
   "source": [
    "df = pd.DataFrame({\n",
    "'Name':[name], \n",
    "'SearchResult':[searchresult], \n",
    "'Headline':[headline], \n",
    "'Location':[location], \n",
    "'Company':[company],\n",
    "'School':[school],\n",
    "'Activites':[activities]    \n",
    "})"
   ]
  },
  {
   "cell_type": "code",
   "execution_count": 22,
   "metadata": {},
   "outputs": [
    {
     "data": {
      "text/html": [
       "<div>\n",
       "<style scoped>\n",
       "    .dataframe tbody tr th:only-of-type {\n",
       "        vertical-align: middle;\n",
       "    }\n",
       "\n",
       "    .dataframe tbody tr th {\n",
       "        vertical-align: top;\n",
       "    }\n",
       "\n",
       "    .dataframe thead th {\n",
       "        text-align: right;\n",
       "    }\n",
       "</style>\n",
       "<table border=\"1\" class=\"dataframe\">\n",
       "  <thead>\n",
       "    <tr style=\"text-align: right;\">\n",
       "      <th></th>\n",
       "      <th>Name</th>\n",
       "      <th>SearchResult</th>\n",
       "      <th>Headline</th>\n",
       "      <th>Location</th>\n",
       "      <th>Company</th>\n",
       "      <th>School</th>\n",
       "      <th>Activites</th>\n",
       "    </tr>\n",
       "  </thead>\n",
       "  <tbody>\n",
       "    <tr>\n",
       "      <th>0</th>\n",
       "      <td>Eric Cruz</td>\n",
       "      <td>https://www.linkedin.com/in/eric-cruz-07124651/</td>\n",
       "      <td>Finance | IT | Data Science |</td>\n",
       "      <td>New Rochelle, New York</td>\n",
       "      <td>Not Found</td>\n",
       "      <td>[]</td>\n",
       "      <td>[]</td>\n",
       "    </tr>\n",
       "  </tbody>\n",
       "</table>\n",
       "</div>"
      ],
      "text/plain": [
       "        Name                                     SearchResult  \\\n",
       "0  Eric Cruz  https://www.linkedin.com/in/eric-cruz-07124651/   \n",
       "\n",
       "                        Headline                Location    Company School  \\\n",
       "0  Finance | IT | Data Science |  New Rochelle, New York  Not Found     []   \n",
       "\n",
       "  Activites  \n",
       "0        []  "
      ]
     },
     "execution_count": 22,
     "metadata": {},
     "output_type": "execute_result"
    }
   ],
   "source": [
    "df"
   ]
  },
  {
   "cell_type": "code",
   "execution_count": 23,
   "metadata": {},
   "outputs": [],
   "source": [
    "names = pd.read_csv('NameListCornellM.csv')\n",
    "companies = pd.read_csv('CriteriaListCornellM.csv')\n",
    "names = pd.DataFrame(names).to_numpy()\n",
    "companies = pd.DataFrame(companies).to_numpy()"
   ]
  },
  {
   "cell_type": "code",
   "execution_count": 24,
   "metadata": {},
   "outputs": [
    {
     "name": "stdout",
     "output_type": "stream",
     "text": [
      "['Matthew  Druyanoff Cornell']\n",
      "['Eero  Vasa Cornell']\n",
      "['Daniel  Soyfer Cornell']\n",
      "['Bernardo Casares Rosa Cornell']\n",
      "['Quoc-Daniel  Nguyen Cornell']\n",
      "['Dragos  Dima Cornell']\n",
      "['Danny  Riggs Cornell']\n",
      "['Peter  Nawara Cornell']\n",
      "['Judd  Berg Cornell']\n",
      "['Brett  McKeon Cornell']\n",
      "['John  Nerenberg Cornell']\n",
      "['Samuel  Desch Cornell']\n",
      "['Kevin  Suffern Cornell']\n",
      "['Peter  Kortman Cornell']\n",
      "['Joel  Pashcow Cornell']\n",
      "['David  Oshinky Cornell']\n",
      "['James  Maglisceau Cornell']\n",
      "['Torrence  Harder Cornell']\n",
      "['Henry  Steinglass Cornell']\n",
      "['Kenneth  Kershbaum Cornell']\n",
      "['H. Larry Braverman Cornell']\n",
      "['Jon  Minikes Cornell']\n",
      "['Christopher  Demtrak Cornell']\n",
      "['Thomas  Pakurar Cornell']\n",
      "['Brian  Miscall Cornell']\n",
      "['Peter  Aydellott Cornell']\n",
      "['Craig  Fanning Cornell']\n",
      "['J. Lawrence Schnadig Cornell']\n",
      "['Barton  Brownstein Cornell']\n",
      "['DeLee  Minner Cornell']\n",
      "['Alveric  Kegerreis Cornell']\n",
      "['Gerald  Barrack Cornell']\n",
      "['Gilmore  Rothrock Cornell']\n",
      "['Henry  Strunk Cornell']\n",
      "['James  Shoffner Cornell']\n",
      "['Albert  Trostel Cornell']\n",
      "['Colin  Tait Cornell']\n",
      "['Paul  Bomze Cornell']\n",
      "['Bernard  Pinn Cornell']\n",
      "['Bruce  Boselli Cornell']\n",
      "['James  Shoffner Cornell']\n",
      "['Walter  Dockerill Cornell']\n",
      "['William  Swirbal Cornell']\n",
      "['Lee  Saperston Cornell']\n",
      "['John  Riihiluoma Cornell']\n",
      "['Richard  Goldstein Cornell']\n",
      "['Rod  de Llano Cornell']\n",
      "['Rodgers  Heiss Cornell']\n",
      "['Paul  Lansaw Cornell']\n",
      "['Arthur  Gorstenfeld Cornell']\n",
      "['Richard  Gnaedinger Cornell']\n",
      "['Jordan  Dingle Cornell']\n",
      "[' Alfred  Devendorf Cornell']\n",
      "[' John  Fiala Cornell']\n",
      "[' John  Preeg Cornell']\n",
      "[' Bruce  Mesches Cornell']\n",
      "[' Jay  Umans Cornell']\n",
      "[' Arnold  Resnick Cornell']\n",
      "[' Doren  Goldstone Cornell']\n",
      "[' Craig  Perlow Cornell']\n",
      "[' Eric  Schieding Cornell']\n",
      "[' Jeff  Charlolff Cornell']\n",
      "[' Brad  Rosenstein Cornell']\n",
      "[' Mike  Rytting Cornell']\n",
      "[' Tony  Giorgetti Cornell']\n",
      "[' Steve  Begner Cornell']\n",
      "[' Zubin  Irani Cornell']\n",
      "[' Mike  Slapp Cornell']\n",
      "[' Carl  Thorsen Cornell']\n"
     ]
    }
   ],
   "source": [
    "query = []\n",
    "for name, company in zip(names, companies): \n",
    "    query = name + company\n",
    "    searchname.send_keys(query)\n",
    "    driver.find_element_by_class_name(\"search-global-typeahead__controls\")\n",
    "    clicksearch = driver.find_element_by_class_name(\"search-global-typeahead__controls\")\n",
    "    clicksearch.click()\n",
    "    time.sleep(2)\n",
    "    try:\n",
    "        driver.find_element_by_xpath('//span[@class=\"name actor-name\"]').click()\n",
    "        time.sleep(3)\n",
    "        searchresult = driver.current_url\n",
    "    except Exception:\n",
    "        print(query)\n",
    "        driver.find_element_by_class_name(\"search-global-typeahead__input.always-show-placeholder\")\n",
    "        searchname = driver.find_element_by_class_name(\"search-global-typeahead__input.always-show-placeholder\")        \n",
    "        searchname.clear()\n",
    "        time.sleep(1)\n",
    "        driver.find_element_by_class_name(\"search-global-typeahead__controls\")\n",
    "        clicksearch = driver.find_element_by_class_name(\"search-global-typeahead__controls\")\n",
    "        clicksearch.click()\n",
    "        time.sleep(2)\n",
    "        clicksearch.click()\n",
    "    else:\n",
    "        sel=Selector(text=driver.page_source)\n",
    "        name = sel.xpath('//*[starts-with(@class, \"inline t-24\")]/text()').extract_first()\n",
    "        if name is None:\n",
    "            name = \"Not Found\"\n",
    "        name = name.strip()\n",
    "#time.sleep(5)\n",
    "        headline = sel.xpath('//*[starts-with(@class, \"mt1 t-18\")]/text()').extract_first()\n",
    "        if headline is None:\n",
    "            headline = \"Not Found\"\n",
    "        headline = headline.strip()\n",
    "#time.sleep(5)\n",
    "        location = sel.xpath('//*[starts-with(@class, \"t-16\")]/text()').extract_first()\n",
    "        if location is None:\n",
    "            location = \"Not Found\"\n",
    "        location = location.strip()\n",
    "        time.sleep(2)\n",
    "        company = sel.xpath('//*[starts-with(@class, \"pv-entity__secondary-title\")]/text()').extract_first()\n",
    "        if company is None:\n",
    "            company = \"Not Found\"\n",
    "        company = company.strip()\n",
    "#time.sleep(5)\n",
    "        school = sel.xpath('//*[starts-with(@class, \"pv-entity__school-name\")]/text()').getall()\n",
    "#time.sleep(5)\n",
    "        activities = sel.xpath('//*[starts-with(@class, \"activities-societies\")]/text()').getall()\n",
    "#time.sleep(5)\n",
    "        tempdf = pd.DataFrame({\n",
    "        'Name':[name], \n",
    "        'SearchResult':[searchresult], \n",
    "        'Headline':[headline], \n",
    "        'Location':[location], \n",
    "        'Company':[company],\n",
    "        'School':[school],\n",
    "        'Activites':[activities]    \n",
    "        })\n",
    "        df=df.append(tempdf)"
   ]
  },
  {
   "cell_type": "code",
   "execution_count": 25,
   "metadata": {},
   "outputs": [
    {
     "data": {
      "text/html": [
       "<div>\n",
       "<style scoped>\n",
       "    .dataframe tbody tr th:only-of-type {\n",
       "        vertical-align: middle;\n",
       "    }\n",
       "\n",
       "    .dataframe tbody tr th {\n",
       "        vertical-align: top;\n",
       "    }\n",
       "\n",
       "    .dataframe thead th {\n",
       "        text-align: right;\n",
       "    }\n",
       "</style>\n",
       "<table border=\"1\" class=\"dataframe\">\n",
       "  <thead>\n",
       "    <tr style=\"text-align: right;\">\n",
       "      <th></th>\n",
       "      <th>Name</th>\n",
       "      <th>SearchResult</th>\n",
       "      <th>Headline</th>\n",
       "      <th>Location</th>\n",
       "      <th>Company</th>\n",
       "      <th>School</th>\n",
       "      <th>Activites</th>\n",
       "    </tr>\n",
       "  </thead>\n",
       "  <tbody>\n",
       "    <tr>\n",
       "      <th>0</th>\n",
       "      <td>Eric Cruz</td>\n",
       "      <td>https://www.linkedin.com/in/eric-cruz-07124651/</td>\n",
       "      <td>Finance | IT | Data Science |</td>\n",
       "      <td>New Rochelle, New York</td>\n",
       "      <td>Not Found</td>\n",
       "      <td>[]</td>\n",
       "      <td>[]</td>\n",
       "    </tr>\n",
       "    <tr>\n",
       "      <th>0</th>\n",
       "      <td>Rohan Sikka</td>\n",
       "      <td>https://www.linkedin.com/in/rohan-sikka-b65032...</td>\n",
       "      <td>Incoming Private Equity Analyst at StepStone G...</td>\n",
       "      <td>London, United Kingdom</td>\n",
       "      <td>Ares Management Corporation</td>\n",
       "      <td>[Cornell University]</td>\n",
       "      <td>[]</td>\n",
       "    </tr>\n",
       "    <tr>\n",
       "      <th>0</th>\n",
       "      <td>Konstantin Kirovski</td>\n",
       "      <td>https://www.linkedin.com/in/konstantin-kirovsk...</td>\n",
       "      <td>Student at Cornell University</td>\n",
       "      <td>Slovenia</td>\n",
       "      <td></td>\n",
       "      <td>[Cornell University]</td>\n",
       "      <td>[]</td>\n",
       "    </tr>\n",
       "    <tr>\n",
       "      <th>0</th>\n",
       "      <td>Alafia Ayeni</td>\n",
       "      <td>https://www.linkedin.com/in/alafia-ayeni-b2326...</td>\n",
       "      <td>Student-Athlete at Cornell University</td>\n",
       "      <td>San Diego, California</td>\n",
       "      <td></td>\n",
       "      <td>[Cornell University, Westview High School]</td>\n",
       "      <td>[Member of Cornell Men's Tennis]</td>\n",
       "    </tr>\n",
       "    <tr>\n",
       "      <th>0</th>\n",
       "      <td>Pietro Rimondini</td>\n",
       "      <td>https://www.linkedin.com/in/pietro-rimondini-7...</td>\n",
       "      <td>Student at Cornell University</td>\n",
       "      <td>Ithaca, New York</td>\n",
       "      <td>Diadem Sports</td>\n",
       "      <td>[Cornell University, Cornell University]</td>\n",
       "      <td>[]</td>\n",
       "    </tr>\n",
       "    <tr>\n",
       "      <th>...</th>\n",
       "      <td>...</td>\n",
       "      <td>...</td>\n",
       "      <td>...</td>\n",
       "      <td>...</td>\n",
       "      <td>...</td>\n",
       "      <td>...</td>\n",
       "      <td>...</td>\n",
       "    </tr>\n",
       "    <tr>\n",
       "      <th>0</th>\n",
       "      <td>Allan Zapadinsky</td>\n",
       "      <td>https://www.linkedin.com/in/allanzapadinsky/</td>\n",
       "      <td>Licensed Real Estate Agent</td>\n",
       "      <td>New York, New York</td>\n",
       "      <td>Keller Williams NYC</td>\n",
       "      <td>[Cornell University, Poly Prep Country Day Sch...</td>\n",
       "      <td>[]</td>\n",
       "    </tr>\n",
       "    <tr>\n",
       "      <th>0</th>\n",
       "      <td>Joe Chrisman, CFA</td>\n",
       "      <td>https://www.linkedin.com/in/joe-chrisman-cfa-2...</td>\n",
       "      <td>Partner at Monograph Wealth Advisors</td>\n",
       "      <td>Greater Los Angeles Area</td>\n",
       "      <td>Monograph Wealth Advisors</td>\n",
       "      <td>[Cornell University, Cornell University]</td>\n",
       "      <td>[Men's Tennis, Phi Kappa Psi]</td>\n",
       "    </tr>\n",
       "    <tr>\n",
       "      <th>0</th>\n",
       "      <td>Daniel Kahn</td>\n",
       "      <td>https://www.linkedin.com/in/daniel-kahn-b2ba882b/</td>\n",
       "      <td>Senior Portfolio Manager, Vice President, Fina...</td>\n",
       "      <td>Greater New York City Area</td>\n",
       "      <td>Morgan Stanley</td>\n",
       "      <td>[Cornell University- Arts and Sciences, N.Y.U ...</td>\n",
       "      <td>[]</td>\n",
       "    </tr>\n",
       "    <tr>\n",
       "      <th>0</th>\n",
       "      <td>Michael Mestel</td>\n",
       "      <td>https://www.linkedin.com/in/michael-mestel-2b6...</td>\n",
       "      <td>Managing Director - Head of US Real Estate Deb...</td>\n",
       "      <td>New York, New York</td>\n",
       "      <td>H.I.G. Capital</td>\n",
       "      <td>[Cornell University, Cornell University]</td>\n",
       "      <td>[]</td>\n",
       "    </tr>\n",
       "    <tr>\n",
       "      <th>0</th>\n",
       "      <td>Ricardo Oliveira Paes</td>\n",
       "      <td>https://www.linkedin.com/in/ricardo-oliveira-p...</td>\n",
       "      <td>Student at Cornell University</td>\n",
       "      <td>Ithaca, New York</td>\n",
       "      <td>Cornell Hyperloop</td>\n",
       "      <td>[Cornell University, Michigan Technological Un...</td>\n",
       "      <td>[Men’s Varsity Tennis Team]</td>\n",
       "    </tr>\n",
       "  </tbody>\n",
       "</table>\n",
       "<p>274 rows × 7 columns</p>\n",
       "</div>"
      ],
      "text/plain": [
       "                     Name                                       SearchResult  \\\n",
       "0               Eric Cruz    https://www.linkedin.com/in/eric-cruz-07124651/   \n",
       "0             Rohan Sikka  https://www.linkedin.com/in/rohan-sikka-b65032...   \n",
       "0     Konstantin Kirovski  https://www.linkedin.com/in/konstantin-kirovsk...   \n",
       "0            Alafia Ayeni  https://www.linkedin.com/in/alafia-ayeni-b2326...   \n",
       "0        Pietro Rimondini  https://www.linkedin.com/in/pietro-rimondini-7...   \n",
       "..                    ...                                                ...   \n",
       "0        Allan Zapadinsky       https://www.linkedin.com/in/allanzapadinsky/   \n",
       "0       Joe Chrisman, CFA  https://www.linkedin.com/in/joe-chrisman-cfa-2...   \n",
       "0             Daniel Kahn  https://www.linkedin.com/in/daniel-kahn-b2ba882b/   \n",
       "0          Michael Mestel  https://www.linkedin.com/in/michael-mestel-2b6...   \n",
       "0   Ricardo Oliveira Paes  https://www.linkedin.com/in/ricardo-oliveira-p...   \n",
       "\n",
       "                                             Headline  \\\n",
       "0                       Finance | IT | Data Science |   \n",
       "0   Incoming Private Equity Analyst at StepStone G...   \n",
       "0                       Student at Cornell University   \n",
       "0               Student-Athlete at Cornell University   \n",
       "0                       Student at Cornell University   \n",
       "..                                                ...   \n",
       "0                          Licensed Real Estate Agent   \n",
       "0                Partner at Monograph Wealth Advisors   \n",
       "0   Senior Portfolio Manager, Vice President, Fina...   \n",
       "0   Managing Director - Head of US Real Estate Deb...   \n",
       "0                       Student at Cornell University   \n",
       "\n",
       "                      Location                      Company  \\\n",
       "0       New Rochelle, New York                    Not Found   \n",
       "0       London, United Kingdom  Ares Management Corporation   \n",
       "0                     Slovenia                                \n",
       "0        San Diego, California                                \n",
       "0             Ithaca, New York                Diadem Sports   \n",
       "..                         ...                          ...   \n",
       "0           New York, New York          Keller Williams NYC   \n",
       "0     Greater Los Angeles Area    Monograph Wealth Advisors   \n",
       "0   Greater New York City Area               Morgan Stanley   \n",
       "0           New York, New York               H.I.G. Capital   \n",
       "0             Ithaca, New York            Cornell Hyperloop   \n",
       "\n",
       "                                               School  \\\n",
       "0                                                  []   \n",
       "0                                [Cornell University]   \n",
       "0                                [Cornell University]   \n",
       "0          [Cornell University, Westview High School]   \n",
       "0            [Cornell University, Cornell University]   \n",
       "..                                                ...   \n",
       "0   [Cornell University, Poly Prep Country Day Sch...   \n",
       "0            [Cornell University, Cornell University]   \n",
       "0   [Cornell University- Arts and Sciences, N.Y.U ...   \n",
       "0            [Cornell University, Cornell University]   \n",
       "0   [Cornell University, Michigan Technological Un...   \n",
       "\n",
       "                           Activites  \n",
       "0                                 []  \n",
       "0                                 []  \n",
       "0                                 []  \n",
       "0   [Member of Cornell Men's Tennis]  \n",
       "0                                 []  \n",
       "..                               ...  \n",
       "0                                 []  \n",
       "0      [Men's Tennis, Phi Kappa Psi]  \n",
       "0                                 []  \n",
       "0                                 []  \n",
       "0        [Men’s Varsity Tennis Team]  \n",
       "\n",
       "[274 rows x 7 columns]"
      ]
     },
     "execution_count": 25,
     "metadata": {},
     "output_type": "execute_result"
    }
   ],
   "source": [
    "df"
   ]
  },
  {
   "cell_type": "code",
   "execution_count": 26,
   "metadata": {},
   "outputs": [
    {
     "data": {
      "text/html": [
       "<div>\n",
       "<style scoped>\n",
       "    .dataframe tbody tr th:only-of-type {\n",
       "        vertical-align: middle;\n",
       "    }\n",
       "\n",
       "    .dataframe tbody tr th {\n",
       "        vertical-align: top;\n",
       "    }\n",
       "\n",
       "    .dataframe thead th {\n",
       "        text-align: right;\n",
       "    }\n",
       "</style>\n",
       "<table border=\"1\" class=\"dataframe\">\n",
       "  <thead>\n",
       "    <tr style=\"text-align: right;\">\n",
       "      <th></th>\n",
       "      <th>Name</th>\n",
       "      <th>SearchResult</th>\n",
       "      <th>Headline</th>\n",
       "      <th>Location</th>\n",
       "      <th>Company</th>\n",
       "      <th>School</th>\n",
       "      <th>Activites</th>\n",
       "    </tr>\n",
       "  </thead>\n",
       "  <tbody>\n",
       "    <tr>\n",
       "      <th>0</th>\n",
       "      <td>Allan Zapadinsky</td>\n",
       "      <td>https://www.linkedin.com/in/allanzapadinsky/</td>\n",
       "      <td>Licensed Real Estate Agent</td>\n",
       "      <td>New York, New York</td>\n",
       "      <td>Keller Williams NYC</td>\n",
       "      <td>[Cornell University, Poly Prep Country Day Sch...</td>\n",
       "      <td>[]</td>\n",
       "    </tr>\n",
       "    <tr>\n",
       "      <th>0</th>\n",
       "      <td>Joe Chrisman, CFA</td>\n",
       "      <td>https://www.linkedin.com/in/joe-chrisman-cfa-2...</td>\n",
       "      <td>Partner at Monograph Wealth Advisors</td>\n",
       "      <td>Greater Los Angeles Area</td>\n",
       "      <td>Monograph Wealth Advisors</td>\n",
       "      <td>[Cornell University, Cornell University]</td>\n",
       "      <td>[Men's Tennis, Phi Kappa Psi]</td>\n",
       "    </tr>\n",
       "    <tr>\n",
       "      <th>0</th>\n",
       "      <td>Daniel Kahn</td>\n",
       "      <td>https://www.linkedin.com/in/daniel-kahn-b2ba882b/</td>\n",
       "      <td>Senior Portfolio Manager, Vice President, Fina...</td>\n",
       "      <td>Greater New York City Area</td>\n",
       "      <td>Morgan Stanley</td>\n",
       "      <td>[Cornell University- Arts and Sciences, N.Y.U ...</td>\n",
       "      <td>[]</td>\n",
       "    </tr>\n",
       "    <tr>\n",
       "      <th>0</th>\n",
       "      <td>Michael Mestel</td>\n",
       "      <td>https://www.linkedin.com/in/michael-mestel-2b6...</td>\n",
       "      <td>Managing Director - Head of US Real Estate Deb...</td>\n",
       "      <td>New York, New York</td>\n",
       "      <td>H.I.G. Capital</td>\n",
       "      <td>[Cornell University, Cornell University]</td>\n",
       "      <td>[]</td>\n",
       "    </tr>\n",
       "    <tr>\n",
       "      <th>0</th>\n",
       "      <td>Ricardo Oliveira Paes</td>\n",
       "      <td>https://www.linkedin.com/in/ricardo-oliveira-p...</td>\n",
       "      <td>Student at Cornell University</td>\n",
       "      <td>Ithaca, New York</td>\n",
       "      <td>Cornell Hyperloop</td>\n",
       "      <td>[Cornell University, Michigan Technological Un...</td>\n",
       "      <td>[Men’s Varsity Tennis Team]</td>\n",
       "    </tr>\n",
       "  </tbody>\n",
       "</table>\n",
       "</div>"
      ],
      "text/plain": [
       "                    Name                                       SearchResult  \\\n",
       "0       Allan Zapadinsky       https://www.linkedin.com/in/allanzapadinsky/   \n",
       "0      Joe Chrisman, CFA  https://www.linkedin.com/in/joe-chrisman-cfa-2...   \n",
       "0            Daniel Kahn  https://www.linkedin.com/in/daniel-kahn-b2ba882b/   \n",
       "0         Michael Mestel  https://www.linkedin.com/in/michael-mestel-2b6...   \n",
       "0  Ricardo Oliveira Paes  https://www.linkedin.com/in/ricardo-oliveira-p...   \n",
       "\n",
       "                                            Headline  \\\n",
       "0                         Licensed Real Estate Agent   \n",
       "0               Partner at Monograph Wealth Advisors   \n",
       "0  Senior Portfolio Manager, Vice President, Fina...   \n",
       "0  Managing Director - Head of US Real Estate Deb...   \n",
       "0                      Student at Cornell University   \n",
       "\n",
       "                     Location                    Company  \\\n",
       "0          New York, New York        Keller Williams NYC   \n",
       "0    Greater Los Angeles Area  Monograph Wealth Advisors   \n",
       "0  Greater New York City Area             Morgan Stanley   \n",
       "0          New York, New York             H.I.G. Capital   \n",
       "0            Ithaca, New York          Cornell Hyperloop   \n",
       "\n",
       "                                              School  \\\n",
       "0  [Cornell University, Poly Prep Country Day Sch...   \n",
       "0           [Cornell University, Cornell University]   \n",
       "0  [Cornell University- Arts and Sciences, N.Y.U ...   \n",
       "0           [Cornell University, Cornell University]   \n",
       "0  [Cornell University, Michigan Technological Un...   \n",
       "\n",
       "                       Activites  \n",
       "0                             []  \n",
       "0  [Men's Tennis, Phi Kappa Psi]  \n",
       "0                             []  \n",
       "0                             []  \n",
       "0    [Men’s Varsity Tennis Team]  "
      ]
     },
     "execution_count": 26,
     "metadata": {},
     "output_type": "execute_result"
    }
   ],
   "source": [
    "df.tail()"
   ]
  },
  {
   "cell_type": "code",
   "execution_count": 27,
   "metadata": {},
   "outputs": [
    {
     "name": "stdout",
     "output_type": "stream",
     "text": [
      "<class 'pandas.core.frame.DataFrame'>\n",
      "Int64Index: 274 entries, 0 to 0\n",
      "Data columns (total 7 columns):\n",
      "Name            274 non-null object\n",
      "SearchResult    274 non-null object\n",
      "Headline        274 non-null object\n",
      "Location        274 non-null object\n",
      "Company         274 non-null object\n",
      "School          274 non-null object\n",
      "Activites       274 non-null object\n",
      "dtypes: object(7)\n",
      "memory usage: 17.1+ KB\n"
     ]
    }
   ],
   "source": [
    "df.info()"
   ]
  },
  {
   "cell_type": "code",
   "execution_count": 28,
   "metadata": {},
   "outputs": [
    {
     "data": {
      "text/html": [
       "<div>\n",
       "<style scoped>\n",
       "    .dataframe tbody tr th:only-of-type {\n",
       "        vertical-align: middle;\n",
       "    }\n",
       "\n",
       "    .dataframe tbody tr th {\n",
       "        vertical-align: top;\n",
       "    }\n",
       "\n",
       "    .dataframe thead th {\n",
       "        text-align: right;\n",
       "    }\n",
       "</style>\n",
       "<table border=\"1\" class=\"dataframe\">\n",
       "  <thead>\n",
       "    <tr style=\"text-align: right;\">\n",
       "      <th></th>\n",
       "      <th>Name</th>\n",
       "      <th>SearchResult</th>\n",
       "      <th>Headline</th>\n",
       "      <th>Location</th>\n",
       "      <th>Company</th>\n",
       "      <th>School</th>\n",
       "      <th>Activites</th>\n",
       "    </tr>\n",
       "  </thead>\n",
       "  <tbody>\n",
       "    <tr>\n",
       "      <th>count</th>\n",
       "      <td>274</td>\n",
       "      <td>274</td>\n",
       "      <td>274</td>\n",
       "      <td>274</td>\n",
       "      <td>274</td>\n",
       "      <td>274</td>\n",
       "      <td>274</td>\n",
       "    </tr>\n",
       "    <tr>\n",
       "      <th>unique</th>\n",
       "      <td>271</td>\n",
       "      <td>271</td>\n",
       "      <td>251</td>\n",
       "      <td>127</td>\n",
       "      <td>213</td>\n",
       "      <td>182</td>\n",
       "      <td>110</td>\n",
       "    </tr>\n",
       "    <tr>\n",
       "      <th>top</th>\n",
       "      <td>Steve Silverman</td>\n",
       "      <td>https://www.linkedin.com/in/steve-silverman-ba...</td>\n",
       "      <td>Student at Cornell University</td>\n",
       "      <td>Greater New York City Area</td>\n",
       "      <td>Not Found</td>\n",
       "      <td>[Cornell University]</td>\n",
       "      <td>[]</td>\n",
       "    </tr>\n",
       "    <tr>\n",
       "      <th>freq</th>\n",
       "      <td>2</td>\n",
       "      <td>2</td>\n",
       "      <td>17</td>\n",
       "      <td>45</td>\n",
       "      <td>35</td>\n",
       "      <td>49</td>\n",
       "      <td>155</td>\n",
       "    </tr>\n",
       "  </tbody>\n",
       "</table>\n",
       "</div>"
      ],
      "text/plain": [
       "                   Name                                       SearchResult  \\\n",
       "count               274                                                274   \n",
       "unique              271                                                271   \n",
       "top     Steve Silverman  https://www.linkedin.com/in/steve-silverman-ba...   \n",
       "freq                  2                                                  2   \n",
       "\n",
       "                             Headline                    Location    Company  \\\n",
       "count                             274                         274        274   \n",
       "unique                            251                         127        213   \n",
       "top     Student at Cornell University  Greater New York City Area  Not Found   \n",
       "freq                               17                          45         35   \n",
       "\n",
       "                      School Activites  \n",
       "count                    274       274  \n",
       "unique                   182       110  \n",
       "top     [Cornell University]        []  \n",
       "freq                      49       155  "
      ]
     },
     "execution_count": 28,
     "metadata": {},
     "output_type": "execute_result"
    }
   ],
   "source": [
    "df.describe()"
   ]
  },
  {
   "cell_type": "code",
   "execution_count": 29,
   "metadata": {},
   "outputs": [
    {
     "data": {
      "text/plain": [
       "Name            0\n",
       "SearchResult    0\n",
       "Headline        0\n",
       "Location        0\n",
       "Company         0\n",
       "School          0\n",
       "Activites       0\n",
       "dtype: int64"
      ]
     },
     "execution_count": 29,
     "metadata": {},
     "output_type": "execute_result"
    }
   ],
   "source": [
    "df.isnull().sum()"
   ]
  },
  {
   "cell_type": "code",
   "execution_count": 30,
   "metadata": {},
   "outputs": [
    {
     "data": {
      "text/plain": [
       "[Cornell University]                                                         49\n",
       "[]                                                                           28\n",
       "[Cornell University, Cornell University]                                      8\n",
       "[Harvard Business School, Cornell University]                                 4\n",
       "[Columbia University - Columbia Business School, Cornell University]          2\n",
       "                                                                             ..\n",
       "[Albany Law School of Union University, Cornell University]                   1\n",
       "[St. John's University, Providence College, Kennedy Catholic High School]     1\n",
       "[LIU Post, Cornell University, Indiana University Bloomington]                1\n",
       "[Columbia University in the City of New York, INSEAD, Cornell University]     1\n",
       "[Cornell University, University of Melbourne]                                 1\n",
       "Name: School, Length: 182, dtype: int64"
      ]
     },
     "execution_count": 30,
     "metadata": {},
     "output_type": "execute_result"
    }
   ],
   "source": [
    "df[\"School\"].value_counts()"
   ]
  },
  {
   "cell_type": "code",
   "execution_count": 31,
   "metadata": {},
   "outputs": [
    {
     "data": {
      "text/plain": [
       "pandas.core.frame.DataFrame"
      ]
     },
     "execution_count": 31,
     "metadata": {},
     "output_type": "execute_result"
    }
   ],
   "source": [
    "type(df)"
   ]
  },
  {
   "cell_type": "code",
   "execution_count": 32,
   "metadata": {},
   "outputs": [
    {
     "data": {
      "text/plain": [
       "Index(['Name', 'SearchResult', 'Headline', 'Location', 'Company', 'School',\n",
       "       'Activites'],\n",
       "      dtype='object')"
      ]
     },
     "execution_count": 32,
     "metadata": {},
     "output_type": "execute_result"
    }
   ],
   "source": [
    "df.columns"
   ]
  },
  {
   "cell_type": "code",
   "execution_count": 33,
   "metadata": {},
   "outputs": [],
   "source": [
    "df.to_csv(\"CornellM_LinkedIn.csv\")"
   ]
  },
  {
   "cell_type": "code",
   "execution_count": null,
   "metadata": {},
   "outputs": [],
   "source": [
    "\n"
   ]
  }
 ],
 "metadata": {
  "kernelspec": {
   "display_name": "Python 3",
   "language": "python",
   "name": "python3"
  },
  "language_info": {
   "codemirror_mode": {
    "name": "ipython",
    "version": 3
   },
   "file_extension": ".py",
   "mimetype": "text/x-python",
   "name": "python",
   "nbconvert_exporter": "python",
   "pygments_lexer": "ipython3",
   "version": "3.7.1"
  }
 },
 "nbformat": 4,
 "nbformat_minor": 2
}
