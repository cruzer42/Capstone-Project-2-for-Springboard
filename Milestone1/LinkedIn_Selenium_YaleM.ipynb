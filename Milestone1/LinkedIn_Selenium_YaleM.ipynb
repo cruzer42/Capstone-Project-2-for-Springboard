{
 "cells": [
  {
   "cell_type": "code",
   "execution_count": 1,
   "metadata": {},
   "outputs": [],
   "source": [
    "from selenium import webdriver\n",
    "from selenium.webdriver.common.keys import Keys\n",
    "from parsel import Selector\n",
    "import pandas as pd\n",
    "import numpy as np\n",
    "import time\n",
    "EXE_PATH = r\"C:\\Users\\19145\\Downloads\\chromedriver_win32\\chromedriver.exe\"\n",
    "driver = webdriver.Chrome(executable_path=EXE_PATH)"
   ]
  },
  {
   "cell_type": "code",
   "execution_count": 2,
   "metadata": {},
   "outputs": [],
   "source": [
    "driver.get('https://www.linkedin.com')\n",
    "time.sleep(10)"
   ]
  },
  {
   "cell_type": "code",
   "execution_count": 3,
   "metadata": {},
   "outputs": [
    {
     "data": {
      "text/plain": [
       "<selenium.webdriver.remote.webelement.WebElement (session=\"27d39ea4238e8376d6e209c2cb0a88c9\", element=\"bbd46146-f68e-4b17-a025-a08d545b8e9a\")>"
      ]
     },
     "execution_count": 3,
     "metadata": {},
     "output_type": "execute_result"
    }
   ],
   "source": [
    "driver.find_element_by_class_name(\"input\")"
   ]
  },
  {
   "cell_type": "code",
   "execution_count": 4,
   "metadata": {},
   "outputs": [
    {
     "data": {
      "text/plain": [
       "<selenium.webdriver.remote.webelement.WebElement (session=\"27d39ea4238e8376d6e209c2cb0a88c9\", element=\"14b5dde5-e4e9-4a95-930f-358ac1193d51\")>"
      ]
     },
     "execution_count": 4,
     "metadata": {},
     "output_type": "execute_result"
    }
   ],
   "source": [
    "driver.find_element_by_name(\"session_key\")"
   ]
  },
  {
   "cell_type": "code",
   "execution_count": 5,
   "metadata": {},
   "outputs": [],
   "source": [
    "username = driver.find_element_by_name(\"session_key\")\n",
    "username.send_keys('eric.cruz.4242@gmail.com')"
   ]
  },
  {
   "cell_type": "code",
   "execution_count": 6,
   "metadata": {},
   "outputs": [
    {
     "data": {
      "text/plain": [
       "<selenium.webdriver.remote.webelement.WebElement (session=\"27d39ea4238e8376d6e209c2cb0a88c9\", element=\"cd1a819c-89e2-4681-b3c1-cf78eb7110d2\")>"
      ]
     },
     "execution_count": 6,
     "metadata": {},
     "output_type": "execute_result"
    }
   ],
   "source": [
    "driver.find_element_by_name(\"session_password\")"
   ]
  },
  {
   "cell_type": "code",
   "execution_count": 7,
   "metadata": {},
   "outputs": [],
   "source": [
    "password = driver.find_element_by_name(\"session_password\")\n",
    "password.send_keys('Cassidy1!')"
   ]
  },
  {
   "cell_type": "code",
   "execution_count": 8,
   "metadata": {},
   "outputs": [],
   "source": [
    "driver.find_element_by_class_name(\"sign-in-form__footer\")\n",
    "log_in_button = driver.find_element_by_class_name(\"sign-in-form__submit-btn\")\n",
    "log_in_button.click()"
   ]
  },
  {
   "cell_type": "code",
   "execution_count": 9,
   "metadata": {},
   "outputs": [],
   "source": [
    "driver.find_element_by_class_name(\"search-global-typeahead__input.always-show-placeholder\")\n",
    "searchname = driver.find_element_by_class_name(\"search-global-typeahead__input.always-show-placeholder\")"
   ]
  },
  {
   "cell_type": "code",
   "execution_count": 10,
   "metadata": {},
   "outputs": [],
   "source": [
    "searchname.send_keys('Eric Cruz Cornell')\n"
   ]
  },
  {
   "cell_type": "code",
   "execution_count": 11,
   "metadata": {},
   "outputs": [],
   "source": [
    "driver.find_element_by_class_name(\"search-global-typeahead__controls\")\n",
    "clicksearch = driver.find_element_by_class_name(\"search-global-typeahead__controls\")\n",
    "clicksearch.click()\n",
    "time.sleep(10)"
   ]
  },
  {
   "cell_type": "code",
   "execution_count": 12,
   "metadata": {},
   "outputs": [],
   "source": [
    "driver.find_element_by_xpath('//span[@class=\"name actor-name\"]').click()\n",
    "time.sleep(1)"
   ]
  },
  {
   "cell_type": "code",
   "execution_count": 13,
   "metadata": {},
   "outputs": [],
   "source": [
    "searchresult=[]\n",
    "name=[]\n",
    "LName=[]\n",
    "headline=[]\n",
    "location=[]\n",
    "company=[]\n",
    "school=[]\n",
    "activities=[]"
   ]
  },
  {
   "cell_type": "code",
   "execution_count": 14,
   "metadata": {},
   "outputs": [],
   "source": [
    "searchresult = driver.current_url\n",
    "searchresult\n",
    "time.sleep(1)"
   ]
  },
  {
   "cell_type": "code",
   "execution_count": 15,
   "metadata": {},
   "outputs": [],
   "source": [
    "sel=Selector(text=driver.page_source)\n",
    "name = sel.xpath('//*[starts-with(@class, \"inline t-24\")]/text()').extract_first()\n",
    "name = name.strip()\n",
    "LName = name\n",
    "#time.sleep(5)\n",
    "#name.append(name)\n",
    "headline = sel.xpath('//*[starts-with(@class, \"mt1 t-18\")]/text()').extract_first()\n",
    "headline = headline.strip()\n",
    "#time.sleep(5)\n",
    "#headline.append(headline)\n",
    "location = sel.xpath('//*[starts-with(@class, \"t-16\")]/text()').extract_first()\n",
    "location = location.strip()\n",
    "time.sleep(5)\n",
    "#location.append(location)\n",
    "company = sel.xpath('//*[starts-with(@class, \"pv-entity__secondary-title\")]/text()').extract_first()\n",
    "if company is None:\n",
    "    company = \"Not Found\"\n",
    "company = company.strip()\n",
    "#time.sleep(5)\n",
    "#company.append(company)\n",
    "school = sel.xpath('//*[starts-with(@class, \"pv-entity__school-name\")]/text()').getall()\n",
    "#school.append(school)\n",
    "#time.sleep(5)\n",
    "activities = sel.xpath('//*[starts-with(@class, \"activities-societies\")]/text()').getall()\n",
    "#activities.append(activities)\n",
    "#time.sleep(5)"
   ]
  },
  {
   "cell_type": "code",
   "execution_count": 16,
   "metadata": {},
   "outputs": [],
   "source": [
    "df = pd.DataFrame({\n",
    "'Name':[name],\n",
    "'LName':[LName],    \n",
    "'SearchResult':[searchresult], \n",
    "'Headline':[headline], \n",
    "'Location':[location], \n",
    "'Company':[company],\n",
    "'School':[school],\n",
    "'Activites':[activities]    \n",
    "})"
   ]
  },
  {
   "cell_type": "code",
   "execution_count": 17,
   "metadata": {},
   "outputs": [
    {
     "data": {
      "text/html": [
       "<div>\n",
       "<style scoped>\n",
       "    .dataframe tbody tr th:only-of-type {\n",
       "        vertical-align: middle;\n",
       "    }\n",
       "\n",
       "    .dataframe tbody tr th {\n",
       "        vertical-align: top;\n",
       "    }\n",
       "\n",
       "    .dataframe thead th {\n",
       "        text-align: right;\n",
       "    }\n",
       "</style>\n",
       "<table border=\"1\" class=\"dataframe\">\n",
       "  <thead>\n",
       "    <tr style=\"text-align: right;\">\n",
       "      <th></th>\n",
       "      <th>Name</th>\n",
       "      <th>LName</th>\n",
       "      <th>SearchResult</th>\n",
       "      <th>Headline</th>\n",
       "      <th>Location</th>\n",
       "      <th>Company</th>\n",
       "      <th>School</th>\n",
       "      <th>Activites</th>\n",
       "    </tr>\n",
       "  </thead>\n",
       "  <tbody>\n",
       "    <tr>\n",
       "      <th>0</th>\n",
       "      <td>Eric Cruz</td>\n",
       "      <td>Eric Cruz</td>\n",
       "      <td>https://www.linkedin.com/in/eric-cruz-07124651/</td>\n",
       "      <td>Finance | IT | Data Science |</td>\n",
       "      <td>New Rochelle, New York</td>\n",
       "      <td>Not Found</td>\n",
       "      <td>[]</td>\n",
       "      <td>[]</td>\n",
       "    </tr>\n",
       "  </tbody>\n",
       "</table>\n",
       "</div>"
      ],
      "text/plain": [
       "        Name      LName                                     SearchResult  \\\n",
       "0  Eric Cruz  Eric Cruz  https://www.linkedin.com/in/eric-cruz-07124651/   \n",
       "\n",
       "                        Headline                Location    Company School  \\\n",
       "0  Finance | IT | Data Science |  New Rochelle, New York  Not Found     []   \n",
       "\n",
       "  Activites  \n",
       "0        []  "
      ]
     },
     "execution_count": 17,
     "metadata": {},
     "output_type": "execute_result"
    }
   ],
   "source": [
    "df"
   ]
  },
  {
   "cell_type": "code",
   "execution_count": 18,
   "metadata": {},
   "outputs": [],
   "source": [
    "namelist = pd.read_csv('NamelistYaleM2.csv')\n",
    "names = pd.read_csv('NamelistYaleM2.csv')\n",
    "companies = pd.read_csv('CriterialistYaleM2.csv')\n",
    "names = pd.DataFrame(names).to_numpy()\n",
    "companies = pd.DataFrame(companies).to_numpy()"
   ]
  },
  {
   "cell_type": "code",
   "execution_count": 19,
   "metadata": {},
   "outputs": [
    {
     "name": "stdout",
     "output_type": "stream",
     "text": [
      "['Charles Ritchie Yale']\n",
      "['C. Wesley Kittleman Yale']\n",
      "['Miles Suchin Yale']\n",
      "['William Ylvisaker Yale']\n",
      "['Eugene Dines Yale']\n",
      "['Narcey Firouz Yale']\n",
      "['J. Arthur Kessler Yale']\n",
      "['Jaime Del Corral Yale']\n",
      "['Heman Gifford Yale']\n",
      "['Gordon Aymar Yale']\n",
      "['Winslow Lovejoy Yale']\n",
      "['Kinloch Yellott Yale']\n",
      "['Irvin Gendler Yale']\n",
      "['Lawrason Sayre Yale']\n",
      "['Nelson Hooe Yale']\n",
      "['Stephen Sicard Yale']\n",
      "['Alan Fischl Yale']\n",
      "['Arthur Keeley Yale']\n",
      "['Dudley Coates Yale']\n",
      "['George Bass Yale']\n",
      "['Leslie Pollack Yale']\n",
      "['Robert Kresch Yale']\n",
      "['Bryan Gatewood Yale']\n",
      "['J. Edward Meyer Yale']\n",
      "['Newell Augur Yale']\n",
      "['G. Whitney Biggs Yale']\n",
      "['Ogden Phipps Yale']\n",
      "['Stuart Ludlum Yale']\n",
      "['Thomas Hartch Yale']\n",
      "['Michael Neely Yale']\n",
      "['Robert Archer Yale']\n",
      "['Peter Southard Yale']\n",
      "['Donald Mcauslan Yale']\n",
      "['Jeffrey Westcott Yale']\n",
      "['Steven Orthwein Yale']\n",
      "['Richard Breitman Yale']\n",
      "['Lathrop Gates Yale']\n",
      "['Peter Heydemann Yale']\n",
      "['Peter MacPartland Yale']\n",
      "['Philip Svigals Yale']\n",
      "['John Tansey Yale']\n",
      "['Andrew Pachner Yale']\n",
      "['James Latting Yale']\n",
      "['David Mielke Yale']\n",
      "['John Shostrum Yale']\n",
      "['Derrick Niederman Yale']\n",
      "['Barnaby Starr Yale']\n",
      "['Bradley Dressler Yale']\n",
      "['William Brady Yale']\n",
      "['William Kerr Yale']\n",
      "['William Raszka Yale']\n",
      "['Mark Tenhundfeld Yale']\n",
      "['Michael Reynal Yale']\n",
      "['Martin Wostenholme Yale']\n",
      "['Dominic Tordjmann Yale']\n",
      "['Sunil Hingorani Yale']\n",
      "['Neal Cavallon Yale']\n",
      "['Robin Selati Yale']\n",
      "['Lee Engquist Yale']\n",
      "['Anthony Aizer Yale']\n",
      "['Jeffrey Wyshner Yale']\n",
      "['J. Henry Morsman Yale']\n",
      "['Aleksanteri Seppala Yale']\n",
      "['Josef Tesarik Yale']\n",
      "['Darren Plokhooy Yale']\n",
      "['Gabriel Goldstein Yale']\n",
      "['Mark Dinner Yale']\n",
      "['Neil Tolaney Yale']\n",
      "['Dan Arellano Yale']\n",
      "['Dustin West Yale']\n",
      "['Andrew Rosenfeld Yale']\n",
      "['David Goldman Yale']\n",
      "['Daniel Clemens Yale']\n",
      "['Andrew Arons Yale']\n",
      "['Ryan Murphy Yale']\n",
      "['Johnny Lu Yale']\n"
     ]
    },
    {
     "ename": "NoSuchElementException",
     "evalue": "Message: no such element: Unable to locate element: {\"method\":\"css selector\",\"selector\":\".search-global-typeahead__input.always-show-placeholder\"}\n  (Session info: chrome=81.0.4044.129)\n",
     "output_type": "error",
     "traceback": [
      "\u001b[1;31m---------------------------------------------------------------------------\u001b[0m",
      "\u001b[1;31mNoSuchElementException\u001b[0m                    Traceback (most recent call last)",
      "\u001b[1;32m<ipython-input-19-f5beb04a8f73>\u001b[0m in \u001b[0;36m<module>\u001b[1;34m\u001b[0m\n\u001b[0;32m     11\u001b[0m     \u001b[1;32mtry\u001b[0m\u001b[1;33m:\u001b[0m\u001b[1;33m\u001b[0m\u001b[1;33m\u001b[0m\u001b[0m\n\u001b[1;32m---> 12\u001b[1;33m         \u001b[0mdriver\u001b[0m\u001b[1;33m.\u001b[0m\u001b[0mfind_element_by_xpath\u001b[0m\u001b[1;33m(\u001b[0m\u001b[1;34m'//span[@class=\"name actor-name\"]'\u001b[0m\u001b[1;33m)\u001b[0m\u001b[1;33m.\u001b[0m\u001b[0mclick\u001b[0m\u001b[1;33m(\u001b[0m\u001b[1;33m)\u001b[0m\u001b[1;33m\u001b[0m\u001b[1;33m\u001b[0m\u001b[0m\n\u001b[0m\u001b[0;32m     13\u001b[0m         \u001b[0mtime\u001b[0m\u001b[1;33m.\u001b[0m\u001b[0msleep\u001b[0m\u001b[1;33m(\u001b[0m\u001b[1;36m2\u001b[0m\u001b[1;33m)\u001b[0m\u001b[1;33m\u001b[0m\u001b[1;33m\u001b[0m\u001b[0m\n",
      "\u001b[1;32m~\\Anaconda3\\lib\\site-packages\\selenium\\webdriver\\remote\\webdriver.py\u001b[0m in \u001b[0;36mfind_element_by_xpath\u001b[1;34m(self, xpath)\u001b[0m\n\u001b[0;32m    393\u001b[0m         \"\"\"\n\u001b[1;32m--> 394\u001b[1;33m         \u001b[1;32mreturn\u001b[0m \u001b[0mself\u001b[0m\u001b[1;33m.\u001b[0m\u001b[0mfind_element\u001b[0m\u001b[1;33m(\u001b[0m\u001b[0mby\u001b[0m\u001b[1;33m=\u001b[0m\u001b[0mBy\u001b[0m\u001b[1;33m.\u001b[0m\u001b[0mXPATH\u001b[0m\u001b[1;33m,\u001b[0m \u001b[0mvalue\u001b[0m\u001b[1;33m=\u001b[0m\u001b[0mxpath\u001b[0m\u001b[1;33m)\u001b[0m\u001b[1;33m\u001b[0m\u001b[1;33m\u001b[0m\u001b[0m\n\u001b[0m\u001b[0;32m    395\u001b[0m \u001b[1;33m\u001b[0m\u001b[0m\n",
      "\u001b[1;32m~\\Anaconda3\\lib\\site-packages\\selenium\\webdriver\\remote\\webdriver.py\u001b[0m in \u001b[0;36mfind_element\u001b[1;34m(self, by, value)\u001b[0m\n\u001b[0;32m    977\u001b[0m             \u001b[1;34m'using'\u001b[0m\u001b[1;33m:\u001b[0m \u001b[0mby\u001b[0m\u001b[1;33m,\u001b[0m\u001b[1;33m\u001b[0m\u001b[1;33m\u001b[0m\u001b[0m\n\u001b[1;32m--> 978\u001b[1;33m             'value': value})['value']\n\u001b[0m\u001b[0;32m    979\u001b[0m \u001b[1;33m\u001b[0m\u001b[0m\n",
      "\u001b[1;32m~\\Anaconda3\\lib\\site-packages\\selenium\\webdriver\\remote\\webdriver.py\u001b[0m in \u001b[0;36mexecute\u001b[1;34m(self, driver_command, params)\u001b[0m\n\u001b[0;32m    320\u001b[0m         \u001b[1;32mif\u001b[0m \u001b[0mresponse\u001b[0m\u001b[1;33m:\u001b[0m\u001b[1;33m\u001b[0m\u001b[1;33m\u001b[0m\u001b[0m\n\u001b[1;32m--> 321\u001b[1;33m             \u001b[0mself\u001b[0m\u001b[1;33m.\u001b[0m\u001b[0merror_handler\u001b[0m\u001b[1;33m.\u001b[0m\u001b[0mcheck_response\u001b[0m\u001b[1;33m(\u001b[0m\u001b[0mresponse\u001b[0m\u001b[1;33m)\u001b[0m\u001b[1;33m\u001b[0m\u001b[1;33m\u001b[0m\u001b[0m\n\u001b[0m\u001b[0;32m    322\u001b[0m             response['value'] = self._unwrap_value(\n",
      "\u001b[1;32m~\\Anaconda3\\lib\\site-packages\\selenium\\webdriver\\remote\\errorhandler.py\u001b[0m in \u001b[0;36mcheck_response\u001b[1;34m(self, response)\u001b[0m\n\u001b[0;32m    241\u001b[0m             \u001b[1;32mraise\u001b[0m \u001b[0mexception_class\u001b[0m\u001b[1;33m(\u001b[0m\u001b[0mmessage\u001b[0m\u001b[1;33m,\u001b[0m \u001b[0mscreen\u001b[0m\u001b[1;33m,\u001b[0m \u001b[0mstacktrace\u001b[0m\u001b[1;33m,\u001b[0m \u001b[0malert_text\u001b[0m\u001b[1;33m)\u001b[0m\u001b[1;33m\u001b[0m\u001b[1;33m\u001b[0m\u001b[0m\n\u001b[1;32m--> 242\u001b[1;33m         \u001b[1;32mraise\u001b[0m \u001b[0mexception_class\u001b[0m\u001b[1;33m(\u001b[0m\u001b[0mmessage\u001b[0m\u001b[1;33m,\u001b[0m \u001b[0mscreen\u001b[0m\u001b[1;33m,\u001b[0m \u001b[0mstacktrace\u001b[0m\u001b[1;33m)\u001b[0m\u001b[1;33m\u001b[0m\u001b[1;33m\u001b[0m\u001b[0m\n\u001b[0m\u001b[0;32m    243\u001b[0m \u001b[1;33m\u001b[0m\u001b[0m\n",
      "\u001b[1;31mNoSuchElementException\u001b[0m: Message: no such element: Unable to locate element: {\"method\":\"xpath\",\"selector\":\"//span[@class=\"name actor-name\"]\"}\n  (Session info: chrome=81.0.4044.129)\n",
      "\nDuring handling of the above exception, another exception occurred:\n",
      "\u001b[1;31mNoSuchElementException\u001b[0m                    Traceback (most recent call last)",
      "\u001b[1;32m<ipython-input-19-f5beb04a8f73>\u001b[0m in \u001b[0;36m<module>\u001b[1;34m\u001b[0m\n\u001b[0;32m     15\u001b[0m     \u001b[1;32mexcept\u001b[0m \u001b[0mException\u001b[0m\u001b[1;33m:\u001b[0m\u001b[1;33m\u001b[0m\u001b[1;33m\u001b[0m\u001b[0m\n\u001b[0;32m     16\u001b[0m         \u001b[0mprint\u001b[0m\u001b[1;33m(\u001b[0m\u001b[0mquery\u001b[0m\u001b[1;33m)\u001b[0m\u001b[1;33m\u001b[0m\u001b[1;33m\u001b[0m\u001b[0m\n\u001b[1;32m---> 17\u001b[1;33m         \u001b[0mdriver\u001b[0m\u001b[1;33m.\u001b[0m\u001b[0mfind_element_by_class_name\u001b[0m\u001b[1;33m(\u001b[0m\u001b[1;34m\"search-global-typeahead__input.always-show-placeholder\"\u001b[0m\u001b[1;33m)\u001b[0m\u001b[1;33m\u001b[0m\u001b[1;33m\u001b[0m\u001b[0m\n\u001b[0m\u001b[0;32m     18\u001b[0m         \u001b[0msearchname\u001b[0m \u001b[1;33m=\u001b[0m \u001b[0mdriver\u001b[0m\u001b[1;33m.\u001b[0m\u001b[0mfind_element_by_class_name\u001b[0m\u001b[1;33m(\u001b[0m\u001b[1;34m\"search-global-typeahead__input.always-show-placeholder\"\u001b[0m\u001b[1;33m)\u001b[0m\u001b[1;33m\u001b[0m\u001b[1;33m\u001b[0m\u001b[0m\n\u001b[0;32m     19\u001b[0m         \u001b[0msearchname\u001b[0m\u001b[1;33m.\u001b[0m\u001b[0mclear\u001b[0m\u001b[1;33m(\u001b[0m\u001b[1;33m)\u001b[0m\u001b[1;33m\u001b[0m\u001b[1;33m\u001b[0m\u001b[0m\n",
      "\u001b[1;32m~\\Anaconda3\\lib\\site-packages\\selenium\\webdriver\\remote\\webdriver.py\u001b[0m in \u001b[0;36mfind_element_by_class_name\u001b[1;34m(self, name)\u001b[0m\n\u001b[0;32m    562\u001b[0m             \u001b[0melement\u001b[0m \u001b[1;33m=\u001b[0m \u001b[0mdriver\u001b[0m\u001b[1;33m.\u001b[0m\u001b[0mfind_element_by_class_name\u001b[0m\u001b[1;33m(\u001b[0m\u001b[1;34m'foo'\u001b[0m\u001b[1;33m)\u001b[0m\u001b[1;33m\u001b[0m\u001b[1;33m\u001b[0m\u001b[0m\n\u001b[0;32m    563\u001b[0m         \"\"\"\n\u001b[1;32m--> 564\u001b[1;33m         \u001b[1;32mreturn\u001b[0m \u001b[0mself\u001b[0m\u001b[1;33m.\u001b[0m\u001b[0mfind_element\u001b[0m\u001b[1;33m(\u001b[0m\u001b[0mby\u001b[0m\u001b[1;33m=\u001b[0m\u001b[0mBy\u001b[0m\u001b[1;33m.\u001b[0m\u001b[0mCLASS_NAME\u001b[0m\u001b[1;33m,\u001b[0m \u001b[0mvalue\u001b[0m\u001b[1;33m=\u001b[0m\u001b[0mname\u001b[0m\u001b[1;33m)\u001b[0m\u001b[1;33m\u001b[0m\u001b[1;33m\u001b[0m\u001b[0m\n\u001b[0m\u001b[0;32m    565\u001b[0m \u001b[1;33m\u001b[0m\u001b[0m\n\u001b[0;32m    566\u001b[0m     \u001b[1;32mdef\u001b[0m \u001b[0mfind_elements_by_class_name\u001b[0m\u001b[1;33m(\u001b[0m\u001b[0mself\u001b[0m\u001b[1;33m,\u001b[0m \u001b[0mname\u001b[0m\u001b[1;33m)\u001b[0m\u001b[1;33m:\u001b[0m\u001b[1;33m\u001b[0m\u001b[1;33m\u001b[0m\u001b[0m\n",
      "\u001b[1;32m~\\Anaconda3\\lib\\site-packages\\selenium\\webdriver\\remote\\webdriver.py\u001b[0m in \u001b[0;36mfind_element\u001b[1;34m(self, by, value)\u001b[0m\n\u001b[0;32m    976\u001b[0m         return self.execute(Command.FIND_ELEMENT, {\n\u001b[0;32m    977\u001b[0m             \u001b[1;34m'using'\u001b[0m\u001b[1;33m:\u001b[0m \u001b[0mby\u001b[0m\u001b[1;33m,\u001b[0m\u001b[1;33m\u001b[0m\u001b[1;33m\u001b[0m\u001b[0m\n\u001b[1;32m--> 978\u001b[1;33m             'value': value})['value']\n\u001b[0m\u001b[0;32m    979\u001b[0m \u001b[1;33m\u001b[0m\u001b[0m\n\u001b[0;32m    980\u001b[0m     \u001b[1;32mdef\u001b[0m \u001b[0mfind_elements\u001b[0m\u001b[1;33m(\u001b[0m\u001b[0mself\u001b[0m\u001b[1;33m,\u001b[0m \u001b[0mby\u001b[0m\u001b[1;33m=\u001b[0m\u001b[0mBy\u001b[0m\u001b[1;33m.\u001b[0m\u001b[0mID\u001b[0m\u001b[1;33m,\u001b[0m \u001b[0mvalue\u001b[0m\u001b[1;33m=\u001b[0m\u001b[1;32mNone\u001b[0m\u001b[1;33m)\u001b[0m\u001b[1;33m:\u001b[0m\u001b[1;33m\u001b[0m\u001b[1;33m\u001b[0m\u001b[0m\n",
      "\u001b[1;32m~\\Anaconda3\\lib\\site-packages\\selenium\\webdriver\\remote\\webdriver.py\u001b[0m in \u001b[0;36mexecute\u001b[1;34m(self, driver_command, params)\u001b[0m\n\u001b[0;32m    319\u001b[0m         \u001b[0mresponse\u001b[0m \u001b[1;33m=\u001b[0m \u001b[0mself\u001b[0m\u001b[1;33m.\u001b[0m\u001b[0mcommand_executor\u001b[0m\u001b[1;33m.\u001b[0m\u001b[0mexecute\u001b[0m\u001b[1;33m(\u001b[0m\u001b[0mdriver_command\u001b[0m\u001b[1;33m,\u001b[0m \u001b[0mparams\u001b[0m\u001b[1;33m)\u001b[0m\u001b[1;33m\u001b[0m\u001b[1;33m\u001b[0m\u001b[0m\n\u001b[0;32m    320\u001b[0m         \u001b[1;32mif\u001b[0m \u001b[0mresponse\u001b[0m\u001b[1;33m:\u001b[0m\u001b[1;33m\u001b[0m\u001b[1;33m\u001b[0m\u001b[0m\n\u001b[1;32m--> 321\u001b[1;33m             \u001b[0mself\u001b[0m\u001b[1;33m.\u001b[0m\u001b[0merror_handler\u001b[0m\u001b[1;33m.\u001b[0m\u001b[0mcheck_response\u001b[0m\u001b[1;33m(\u001b[0m\u001b[0mresponse\u001b[0m\u001b[1;33m)\u001b[0m\u001b[1;33m\u001b[0m\u001b[1;33m\u001b[0m\u001b[0m\n\u001b[0m\u001b[0;32m    322\u001b[0m             response['value'] = self._unwrap_value(\n\u001b[0;32m    323\u001b[0m                 response.get('value', None))\n",
      "\u001b[1;32m~\\Anaconda3\\lib\\site-packages\\selenium\\webdriver\\remote\\errorhandler.py\u001b[0m in \u001b[0;36mcheck_response\u001b[1;34m(self, response)\u001b[0m\n\u001b[0;32m    240\u001b[0m                 \u001b[0malert_text\u001b[0m \u001b[1;33m=\u001b[0m \u001b[0mvalue\u001b[0m\u001b[1;33m[\u001b[0m\u001b[1;34m'alert'\u001b[0m\u001b[1;33m]\u001b[0m\u001b[1;33m.\u001b[0m\u001b[0mget\u001b[0m\u001b[1;33m(\u001b[0m\u001b[1;34m'text'\u001b[0m\u001b[1;33m)\u001b[0m\u001b[1;33m\u001b[0m\u001b[1;33m\u001b[0m\u001b[0m\n\u001b[0;32m    241\u001b[0m             \u001b[1;32mraise\u001b[0m \u001b[0mexception_class\u001b[0m\u001b[1;33m(\u001b[0m\u001b[0mmessage\u001b[0m\u001b[1;33m,\u001b[0m \u001b[0mscreen\u001b[0m\u001b[1;33m,\u001b[0m \u001b[0mstacktrace\u001b[0m\u001b[1;33m,\u001b[0m \u001b[0malert_text\u001b[0m\u001b[1;33m)\u001b[0m\u001b[1;33m\u001b[0m\u001b[1;33m\u001b[0m\u001b[0m\n\u001b[1;32m--> 242\u001b[1;33m         \u001b[1;32mraise\u001b[0m \u001b[0mexception_class\u001b[0m\u001b[1;33m(\u001b[0m\u001b[0mmessage\u001b[0m\u001b[1;33m,\u001b[0m \u001b[0mscreen\u001b[0m\u001b[1;33m,\u001b[0m \u001b[0mstacktrace\u001b[0m\u001b[1;33m)\u001b[0m\u001b[1;33m\u001b[0m\u001b[1;33m\u001b[0m\u001b[0m\n\u001b[0m\u001b[0;32m    243\u001b[0m \u001b[1;33m\u001b[0m\u001b[0m\n\u001b[0;32m    244\u001b[0m     \u001b[1;32mdef\u001b[0m \u001b[0m_value_or_default\u001b[0m\u001b[1;33m(\u001b[0m\u001b[0mself\u001b[0m\u001b[1;33m,\u001b[0m \u001b[0mobj\u001b[0m\u001b[1;33m,\u001b[0m \u001b[0mkey\u001b[0m\u001b[1;33m,\u001b[0m \u001b[0mdefault\u001b[0m\u001b[1;33m)\u001b[0m\u001b[1;33m:\u001b[0m\u001b[1;33m\u001b[0m\u001b[1;33m\u001b[0m\u001b[0m\n",
      "\u001b[1;31mNoSuchElementException\u001b[0m: Message: no such element: Unable to locate element: {\"method\":\"css selector\",\"selector\":\".search-global-typeahead__input.always-show-placeholder\"}\n  (Session info: chrome=81.0.4044.129)\n"
     ]
    }
   ],
   "source": [
    "query = []\n",
    "Name = []\n",
    "for name, company in zip(names, companies): \n",
    "    Name = name\n",
    "    query = name + company\n",
    "    searchname.send_keys(query)\n",
    "    driver.find_element_by_class_name(\"search-global-typeahead__controls\")\n",
    "    clicksearch = driver.find_element_by_class_name(\"search-global-typeahead__controls\")\n",
    "    clicksearch.click()\n",
    "    time.sleep(2)\n",
    "    try:\n",
    "        driver.find_element_by_xpath('//span[@class=\"name actor-name\"]').click()\n",
    "        time.sleep(2)\n",
    "        searchresult = driver.current_url\n",
    "    except Exception:\n",
    "        print(query)\n",
    "        driver.find_element_by_class_name(\"search-global-typeahead__input.always-show-placeholder\")\n",
    "        searchname = driver.find_element_by_class_name(\"search-global-typeahead__input.always-show-placeholder\")        \n",
    "        searchname.clear()\n",
    "        time.sleep(1)\n",
    "        driver.find_element_by_class_name(\"search-global-typeahead__controls\")\n",
    "        clicksearch = driver.find_element_by_class_name(\"search-global-typeahead__controls\")\n",
    "        clicksearch.click()\n",
    "        time.sleep(2)\n",
    "        clicksearch.click()\n",
    "    else:\n",
    "        sel=Selector(text=driver.page_source)\n",
    "        name = sel.xpath('//*[starts-with(@class, \"inline t-24\")]/text()').extract_first()\n",
    "        if name is None:\n",
    "            name = \"Not Found\"\n",
    "        LName = name.strip()\n",
    "#time.sleep(5)\n",
    "        headline = sel.xpath('//*[starts-with(@class, \"mt1 t-18\")]/text()').extract_first()\n",
    "        if headline is None:\n",
    "            headline = \"Not Found\"\n",
    "        headline = headline.strip()\n",
    "#time.sleep(5)\n",
    "        location = sel.xpath('//*[starts-with(@class, \"t-16\")]/text()').extract_first()\n",
    "        if location is None:\n",
    "            location = \"Not Found\"\n",
    "        location = location.strip()\n",
    "        time.sleep(2)\n",
    "        company = sel.xpath('//*[starts-with(@class, \"pv-entity__secondary-title\")]/text()').extract_first()\n",
    "        if company is None:\n",
    "            company = \"Not Found\"\n",
    "        company = company.strip()\n",
    "#time.sleep(5)\n",
    "        school = sel.xpath('//*[starts-with(@class, \"pv-entity__school-name\")]/text()').getall()\n",
    "#time.sleep(5)\n",
    "        activities = sel.xpath('//*[starts-with(@class, \"activities-societies\")]/text()').getall()\n",
    "#time.sleep(5)\n",
    "        tempdf = pd.DataFrame({\n",
    "        'Name':[Name], \n",
    "        'LName' :[LName],\n",
    "        'SearchResult':[searchresult], \n",
    "        'Headline':[headline], \n",
    "        'Location':[location], \n",
    "        'Company':[company],\n",
    "        'School':[school],\n",
    "        'Activites':[activities]    \n",
    "        })\n",
    "        df=df.append(tempdf)"
   ]
  },
  {
   "cell_type": "code",
   "execution_count": null,
   "metadata": {},
   "outputs": [],
   "source": [
    "#names"
   ]
  },
  {
   "cell_type": "code",
   "execution_count": null,
   "metadata": {},
   "outputs": [],
   "source": [
    "#namelist"
   ]
  },
  {
   "cell_type": "code",
   "execution_count": null,
   "metadata": {},
   "outputs": [],
   "source": [
    "df.reset_index(drop=True, inplace=True)"
   ]
  },
  {
   "cell_type": "code",
   "execution_count": null,
   "metadata": {},
   "outputs": [],
   "source": [
    "df.info()"
   ]
  },
  {
   "cell_type": "code",
   "execution_count": null,
   "metadata": {},
   "outputs": [],
   "source": [
    "df.drop([df.index[0]], inplace=True)"
   ]
  },
  {
   "cell_type": "code",
   "execution_count": 21,
   "metadata": {},
   "outputs": [
    {
     "data": {
      "text/html": [
       "<div>\n",
       "<style scoped>\n",
       "    .dataframe tbody tr th:only-of-type {\n",
       "        vertical-align: middle;\n",
       "    }\n",
       "\n",
       "    .dataframe tbody tr th {\n",
       "        vertical-align: top;\n",
       "    }\n",
       "\n",
       "    .dataframe thead th {\n",
       "        text-align: right;\n",
       "    }\n",
       "</style>\n",
       "<table border=\"1\" class=\"dataframe\">\n",
       "  <thead>\n",
       "    <tr style=\"text-align: right;\">\n",
       "      <th></th>\n",
       "      <th>Name</th>\n",
       "      <th>LName</th>\n",
       "      <th>SearchResult</th>\n",
       "      <th>Headline</th>\n",
       "      <th>Location</th>\n",
       "      <th>Company</th>\n",
       "      <th>School</th>\n",
       "      <th>Activites</th>\n",
       "    </tr>\n",
       "  </thead>\n",
       "  <tbody>\n",
       "    <tr>\n",
       "      <th>0</th>\n",
       "      <td>Eric Cruz</td>\n",
       "      <td>Eric Cruz</td>\n",
       "      <td>https://www.linkedin.com/in/eric-cruz-07124651/</td>\n",
       "      <td>Finance | IT | Data Science |</td>\n",
       "      <td>New Rochelle, New York</td>\n",
       "      <td>Not Found</td>\n",
       "      <td>[]</td>\n",
       "      <td>[]</td>\n",
       "    </tr>\n",
       "    <tr>\n",
       "      <th>0</th>\n",
       "      <td>[Victor Kiam]</td>\n",
       "      <td>Jonathan Cristol</td>\n",
       "      <td>https://www.linkedin.com/in/jonathan-cristol-7...</td>\n",
       "      <td>Author of \"The United States and the Taliban b...</td>\n",
       "      <td>Greater New York City Area</td>\n",
       "      <td>Palgrave Macmillan</td>\n",
       "      <td>[University of Bristol, Yale University, Bard ...</td>\n",
       "      <td>[International Affairs Society, Admissions Rep...</td>\n",
       "    </tr>\n",
       "    <tr>\n",
       "      <th>0</th>\n",
       "      <td>[James Boyle]</td>\n",
       "      <td>James Boyle</td>\n",
       "      <td>https://www.linkedin.com/in/james-boyle-71b7a01/</td>\n",
       "      <td>Engineer/Entrepreneur/Educator</td>\n",
       "      <td>Greater New York City Area</td>\n",
       "      <td>YEI Innovation Fund</td>\n",
       "      <td>[Yale University, University of Illinois at Ur...</td>\n",
       "      <td>[]</td>\n",
       "    </tr>\n",
       "    <tr>\n",
       "      <th>0</th>\n",
       "      <td>[Henry Ewald]</td>\n",
       "      <td>Adam Eichenwald</td>\n",
       "      <td>https://www.linkedin.com/in/adam-eichenwald-84...</td>\n",
       "      <td>PhD Student and Teaching Assistant at Tufts Un...</td>\n",
       "      <td>Medford, Massachusetts</td>\n",
       "      <td>Patuxent Wildlife Research Center</td>\n",
       "      <td>[Tufts University, Yale School of Forestry &amp; E...</td>\n",
       "      <td>[Shirokuma Taiko Drumming, Broken Breakdancing...</td>\n",
       "    </tr>\n",
       "    <tr>\n",
       "      <th>0</th>\n",
       "      <td>[Robert Sutton]</td>\n",
       "      <td>Rob Sutton</td>\n",
       "      <td>https://www.linkedin.com/in/rob-jl-sutton/</td>\n",
       "      <td>Senior Caseworker at House of Commons</td>\n",
       "      <td>Reading, United Kingdom</td>\n",
       "      <td>Yale University School of Medicine</td>\n",
       "      <td>[University of Oxford, Cardiff University / Pr...</td>\n",
       "      <td>[]</td>\n",
       "    </tr>\n",
       "    <tr>\n",
       "      <th>...</th>\n",
       "      <td>...</td>\n",
       "      <td>...</td>\n",
       "      <td>...</td>\n",
       "      <td>...</td>\n",
       "      <td>...</td>\n",
       "      <td>...</td>\n",
       "      <td>...</td>\n",
       "      <td>...</td>\n",
       "    </tr>\n",
       "    <tr>\n",
       "      <th>0</th>\n",
       "      <td>[Christopher Shackelton]</td>\n",
       "      <td>Alexander V Nichols</td>\n",
       "      <td>https://www.linkedin.com/in/alexander-v-nichol...</td>\n",
       "      <td>THEATRICAL DESIGNER</td>\n",
       "      <td>San Francisco Bay Area</td>\n",
       "      <td>Not Found</td>\n",
       "      <td>[]</td>\n",
       "      <td>[]</td>\n",
       "    </tr>\n",
       "    <tr>\n",
       "      <th>0</th>\n",
       "      <td>[Ryan Coyle]</td>\n",
       "      <td>Ryan Coyle, CFA</td>\n",
       "      <td>https://www.linkedin.com/in/rcoyle1/</td>\n",
       "      <td>Senior Portfolio Manager</td>\n",
       "      <td>Greater New York City Area</td>\n",
       "      <td>Mirae Asset Global Investments</td>\n",
       "      <td>[Columbia University - Columbia Business Schoo...</td>\n",
       "      <td>[Varsity Tennis Team (4-Year Letterman)]</td>\n",
       "    </tr>\n",
       "    <tr>\n",
       "      <th>0</th>\n",
       "      <td>[Steven Berke]</td>\n",
       "      <td>Steve Berke</td>\n",
       "      <td>https://www.linkedin.com/in/steve-berke-2aa75a/</td>\n",
       "      <td>CEO at Bang Holdings Corp.</td>\n",
       "      <td>Miami, Florida</td>\n",
       "      <td>Bang Holdings Corp</td>\n",
       "      <td>[Yale University]</td>\n",
       "      <td>[]</td>\n",
       "    </tr>\n",
       "    <tr>\n",
       "      <th>0</th>\n",
       "      <td>[Ben Woodhouse]</td>\n",
       "      <td>Ben Woodhouse</td>\n",
       "      <td>https://www.linkedin.com/in/ben-woodhouse-3529...</td>\n",
       "      <td>Havensight Capital</td>\n",
       "      <td>United States</td>\n",
       "      <td>Havensight Capital</td>\n",
       "      <td>[Pepperdine University School of Law, Yale Uni...</td>\n",
       "      <td>[]</td>\n",
       "    </tr>\n",
       "    <tr>\n",
       "      <th>0</th>\n",
       "      <td>[Prateek Tandon]</td>\n",
       "      <td>Prateek Tandon</td>\n",
       "      <td>https://www.linkedin.com/in/prateek-tandon-190...</td>\n",
       "      <td>Experienced leader with deep expertise in fina...</td>\n",
       "      <td>Bethesda, Maryland</td>\n",
       "      <td>The Boston Consulting Group (BCG)</td>\n",
       "      <td>[University of Oxford, Yale University]</td>\n",
       "      <td>[]</td>\n",
       "    </tr>\n",
       "  </tbody>\n",
       "</table>\n",
       "<p>296 rows × 8 columns</p>\n",
       "</div>"
      ],
      "text/plain": [
       "                        Name                LName  \\\n",
       "0                  Eric Cruz            Eric Cruz   \n",
       "0              [Victor Kiam]     Jonathan Cristol   \n",
       "0              [James Boyle]          James Boyle   \n",
       "0              [Henry Ewald]      Adam Eichenwald   \n",
       "0            [Robert Sutton]           Rob Sutton   \n",
       "..                       ...                  ...   \n",
       "0   [Christopher Shackelton]  Alexander V Nichols   \n",
       "0               [Ryan Coyle]      Ryan Coyle, CFA   \n",
       "0             [Steven Berke]          Steve Berke   \n",
       "0            [Ben Woodhouse]        Ben Woodhouse   \n",
       "0           [Prateek Tandon]       Prateek Tandon   \n",
       "\n",
       "                                         SearchResult  \\\n",
       "0     https://www.linkedin.com/in/eric-cruz-07124651/   \n",
       "0   https://www.linkedin.com/in/jonathan-cristol-7...   \n",
       "0    https://www.linkedin.com/in/james-boyle-71b7a01/   \n",
       "0   https://www.linkedin.com/in/adam-eichenwald-84...   \n",
       "0          https://www.linkedin.com/in/rob-jl-sutton/   \n",
       "..                                                ...   \n",
       "0   https://www.linkedin.com/in/alexander-v-nichol...   \n",
       "0                https://www.linkedin.com/in/rcoyle1/   \n",
       "0     https://www.linkedin.com/in/steve-berke-2aa75a/   \n",
       "0   https://www.linkedin.com/in/ben-woodhouse-3529...   \n",
       "0   https://www.linkedin.com/in/prateek-tandon-190...   \n",
       "\n",
       "                                             Headline  \\\n",
       "0                       Finance | IT | Data Science |   \n",
       "0   Author of \"The United States and the Taliban b...   \n",
       "0                      Engineer/Entrepreneur/Educator   \n",
       "0   PhD Student and Teaching Assistant at Tufts Un...   \n",
       "0               Senior Caseworker at House of Commons   \n",
       "..                                                ...   \n",
       "0                                 THEATRICAL DESIGNER   \n",
       "0                            Senior Portfolio Manager   \n",
       "0                          CEO at Bang Holdings Corp.   \n",
       "0                                  Havensight Capital   \n",
       "0   Experienced leader with deep expertise in fina...   \n",
       "\n",
       "                      Location                             Company  \\\n",
       "0       New Rochelle, New York                           Not Found   \n",
       "0   Greater New York City Area                  Palgrave Macmillan   \n",
       "0   Greater New York City Area                 YEI Innovation Fund   \n",
       "0       Medford, Massachusetts   Patuxent Wildlife Research Center   \n",
       "0      Reading, United Kingdom  Yale University School of Medicine   \n",
       "..                         ...                                 ...   \n",
       "0       San Francisco Bay Area                           Not Found   \n",
       "0   Greater New York City Area      Mirae Asset Global Investments   \n",
       "0               Miami, Florida                  Bang Holdings Corp   \n",
       "0                United States                  Havensight Capital   \n",
       "0           Bethesda, Maryland   The Boston Consulting Group (BCG)   \n",
       "\n",
       "                                               School  \\\n",
       "0                                                  []   \n",
       "0   [University of Bristol, Yale University, Bard ...   \n",
       "0   [Yale University, University of Illinois at Ur...   \n",
       "0   [Tufts University, Yale School of Forestry & E...   \n",
       "0   [University of Oxford, Cardiff University / Pr...   \n",
       "..                                                ...   \n",
       "0                                                  []   \n",
       "0   [Columbia University - Columbia Business Schoo...   \n",
       "0                                   [Yale University]   \n",
       "0   [Pepperdine University School of Law, Yale Uni...   \n",
       "0             [University of Oxford, Yale University]   \n",
       "\n",
       "                                            Activites  \n",
       "0                                                  []  \n",
       "0   [International Affairs Society, Admissions Rep...  \n",
       "0                                                  []  \n",
       "0   [Shirokuma Taiko Drumming, Broken Breakdancing...  \n",
       "0                                                  []  \n",
       "..                                                ...  \n",
       "0                                                  []  \n",
       "0            [Varsity Tennis Team (4-Year Letterman)]  \n",
       "0                                                  []  \n",
       "0                                                  []  \n",
       "0                                                  []  \n",
       "\n",
       "[296 rows x 8 columns]"
      ]
     },
     "execution_count": 21,
     "metadata": {},
     "output_type": "execute_result"
    }
   ],
   "source": [
    "df"
   ]
  },
  {
   "cell_type": "code",
   "execution_count": null,
   "metadata": {},
   "outputs": [],
   "source": [
    "df.info()"
   ]
  },
  {
   "cell_type": "code",
   "execution_count": null,
   "metadata": {},
   "outputs": [],
   "source": [
    "df.describe()"
   ]
  },
  {
   "cell_type": "code",
   "execution_count": null,
   "metadata": {},
   "outputs": [],
   "source": [
    "df.isnull().sum()"
   ]
  },
  {
   "cell_type": "code",
   "execution_count": null,
   "metadata": {},
   "outputs": [],
   "source": [
    "df[\"School\"].value_counts()"
   ]
  },
  {
   "cell_type": "code",
   "execution_count": null,
   "metadata": {},
   "outputs": [],
   "source": [
    "#df.School.unique()"
   ]
  },
  {
   "cell_type": "code",
   "execution_count": null,
   "metadata": {},
   "outputs": [],
   "source": [
    "type(df)"
   ]
  },
  {
   "cell_type": "code",
   "execution_count": null,
   "metadata": {},
   "outputs": [],
   "source": [
    "df.columns"
   ]
  },
  {
   "cell_type": "code",
   "execution_count": 20,
   "metadata": {},
   "outputs": [],
   "source": [
    "df.to_csv(\"YaleMenLinkedIn2b.csv\", index=False)"
   ]
  },
  {
   "cell_type": "code",
   "execution_count": null,
   "metadata": {},
   "outputs": [],
   "source": [
    "\n"
   ]
  }
 ],
 "metadata": {
  "kernelspec": {
   "display_name": "Python 3",
   "language": "python",
   "name": "python3"
  },
  "language_info": {
   "codemirror_mode": {
    "name": "ipython",
    "version": 3
   },
   "file_extension": ".py",
   "mimetype": "text/x-python",
   "name": "python",
   "nbconvert_exporter": "python",
   "pygments_lexer": "ipython3",
   "version": "3.7.1"
  }
 },
 "nbformat": 4,
 "nbformat_minor": 2
}
