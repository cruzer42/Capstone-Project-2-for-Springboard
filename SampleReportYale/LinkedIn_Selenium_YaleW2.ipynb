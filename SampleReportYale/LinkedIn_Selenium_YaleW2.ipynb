{
 "cells": [
  {
   "cell_type": "code",
   "execution_count": 1,
   "metadata": {},
   "outputs": [],
   "source": [
    "from selenium import webdriver\n",
    "from selenium.webdriver.common.keys import Keys\n",
    "from parsel import Selector\n",
    "import pandas as pd\n",
    "import numpy as np\n",
    "import time\n",
    "EXE_PATH = r\"C:\\Users\\19145\\Downloads\\chromedriver_win32\\chromedriver.exe\"\n",
    "driver = webdriver.Chrome(executable_path=EXE_PATH)"
   ]
  },
  {
   "cell_type": "code",
   "execution_count": 2,
   "metadata": {},
   "outputs": [],
   "source": [
    "driver.get('https://www.linkedin.com')\n",
    "time.sleep(10)"
   ]
  },
  {
   "cell_type": "code",
   "execution_count": 3,
   "metadata": {},
   "outputs": [
    {
     "data": {
      "text/plain": [
       "<selenium.webdriver.remote.webelement.WebElement (session=\"d1cfb6c333f82c898783699b1b2df6a3\", element=\"951d812d-46e6-4b5d-9d3c-c27d239eea3d\")>"
      ]
     },
     "execution_count": 3,
     "metadata": {},
     "output_type": "execute_result"
    }
   ],
   "source": [
    "driver.find_element_by_class_name(\"input\")"
   ]
  },
  {
   "cell_type": "code",
   "execution_count": 4,
   "metadata": {},
   "outputs": [
    {
     "data": {
      "text/plain": [
       "<selenium.webdriver.remote.webelement.WebElement (session=\"d1cfb6c333f82c898783699b1b2df6a3\", element=\"6de964b3-fa2e-4ead-a7de-403f9874f628\")>"
      ]
     },
     "execution_count": 4,
     "metadata": {},
     "output_type": "execute_result"
    }
   ],
   "source": [
    "driver.find_element_by_name(\"session_key\")"
   ]
  },
  {
   "cell_type": "code",
   "execution_count": 5,
   "metadata": {},
   "outputs": [],
   "source": [
    "username = driver.find_element_by_name(\"session_key\")\n",
    "username.send_keys('eric.cruz.4242@gmail.com')"
   ]
  },
  {
   "cell_type": "code",
   "execution_count": 6,
   "metadata": {},
   "outputs": [
    {
     "data": {
      "text/plain": [
       "<selenium.webdriver.remote.webelement.WebElement (session=\"d1cfb6c333f82c898783699b1b2df6a3\", element=\"5f1b0c36-9379-44be-9f97-6f9cf8b1beef\")>"
      ]
     },
     "execution_count": 6,
     "metadata": {},
     "output_type": "execute_result"
    }
   ],
   "source": [
    "driver.find_element_by_name(\"session_password\")"
   ]
  },
  {
   "cell_type": "code",
   "execution_count": 7,
   "metadata": {},
   "outputs": [],
   "source": [
    "password = driver.find_element_by_name(\"session_password\")\n",
    "password.send_keys('Cassidy1!')"
   ]
  },
  {
   "cell_type": "code",
   "execution_count": 8,
   "metadata": {},
   "outputs": [],
   "source": [
    "driver.find_element_by_class_name(\"sign-in-form__footer\")\n",
    "log_in_button = driver.find_element_by_class_name(\"sign-in-form__submit-btn\")\n",
    "log_in_button.click()"
   ]
  },
  {
   "cell_type": "code",
   "execution_count": 9,
   "metadata": {},
   "outputs": [],
   "source": [
    "driver.find_element_by_class_name(\"search-global-typeahead__input.always-show-placeholder\")\n",
    "searchname = driver.find_element_by_class_name(\"search-global-typeahead__input.always-show-placeholder\")"
   ]
  },
  {
   "cell_type": "code",
   "execution_count": 10,
   "metadata": {},
   "outputs": [],
   "source": [
    "searchname.send_keys('Eric Cruz Cornell')\n"
   ]
  },
  {
   "cell_type": "code",
   "execution_count": 11,
   "metadata": {},
   "outputs": [],
   "source": [
    "driver.find_element_by_class_name(\"search-global-typeahead__controls\")\n",
    "clicksearch = driver.find_element_by_class_name(\"search-global-typeahead__controls\")\n",
    "clicksearch.click()\n",
    "time.sleep(10)"
   ]
  },
  {
   "cell_type": "code",
   "execution_count": 12,
   "metadata": {},
   "outputs": [],
   "source": [
    "driver.find_element_by_xpath('//span[@class=\"name actor-name\"]').click()\n",
    "time.sleep(1)"
   ]
  },
  {
   "cell_type": "code",
   "execution_count": 13,
   "metadata": {},
   "outputs": [],
   "source": [
    "searchresult=[]\n",
    "name=[]\n",
    "LName=[]\n",
    "headline=[]\n",
    "location=[]\n",
    "company=[]\n",
    "school=[]\n",
    "activities=[]"
   ]
  },
  {
   "cell_type": "code",
   "execution_count": 14,
   "metadata": {},
   "outputs": [],
   "source": [
    "searchresult = driver.current_url\n",
    "searchresult\n",
    "time.sleep(1)"
   ]
  },
  {
   "cell_type": "code",
   "execution_count": 15,
   "metadata": {},
   "outputs": [],
   "source": [
    "sel=Selector(text=driver.page_source)\n",
    "name = sel.xpath('//*[starts-with(@class, \"inline t-24\")]/text()').extract_first()\n",
    "name = name.strip()\n",
    "LName = name\n",
    "#time.sleep(5)\n",
    "#name.append(name)\n",
    "headline = sel.xpath('//*[starts-with(@class, \"mt1 t-18\")]/text()').extract_first()\n",
    "headline = headline.strip()\n",
    "#time.sleep(5)\n",
    "#headline.append(headline)\n",
    "location = sel.xpath('//*[starts-with(@class, \"t-16\")]/text()').extract_first()\n",
    "location = location.strip()\n",
    "time.sleep(5)\n",
    "#location.append(location)\n",
    "company = sel.xpath('//*[starts-with(@class, \"pv-entity__secondary-title\")]/text()').extract_first()\n",
    "if company is None:\n",
    "    company = \"Not Found\"\n",
    "company = company.strip()\n",
    "#time.sleep(5)\n",
    "#company.append(company)\n",
    "school = sel.xpath('//*[starts-with(@class, \"pv-entity__school-name\")]/text()').getall()\n",
    "#school.append(school)\n",
    "#time.sleep(5)\n",
    "activities = sel.xpath('//*[starts-with(@class, \"activities-societies\")]/text()').getall()\n",
    "#activities.append(activities)\n",
    "#time.sleep(5)"
   ]
  },
  {
   "cell_type": "code",
   "execution_count": 16,
   "metadata": {},
   "outputs": [],
   "source": [
    "df = pd.DataFrame({\n",
    "'Name':[name],\n",
    "'LName':[LName],    \n",
    "'SearchResult':[searchresult], \n",
    "'Headline':[headline], \n",
    "'Location':[location], \n",
    "'Company':[company],\n",
    "'School':[school],\n",
    "'Activites':[activities]    \n",
    "})"
   ]
  },
  {
   "cell_type": "code",
   "execution_count": 17,
   "metadata": {},
   "outputs": [
    {
     "data": {
      "text/html": [
       "<div>\n",
       "<style scoped>\n",
       "    .dataframe tbody tr th:only-of-type {\n",
       "        vertical-align: middle;\n",
       "    }\n",
       "\n",
       "    .dataframe tbody tr th {\n",
       "        vertical-align: top;\n",
       "    }\n",
       "\n",
       "    .dataframe thead th {\n",
       "        text-align: right;\n",
       "    }\n",
       "</style>\n",
       "<table border=\"1\" class=\"dataframe\">\n",
       "  <thead>\n",
       "    <tr style=\"text-align: right;\">\n",
       "      <th></th>\n",
       "      <th>Name</th>\n",
       "      <th>LName</th>\n",
       "      <th>SearchResult</th>\n",
       "      <th>Headline</th>\n",
       "      <th>Location</th>\n",
       "      <th>Company</th>\n",
       "      <th>School</th>\n",
       "      <th>Activites</th>\n",
       "    </tr>\n",
       "  </thead>\n",
       "  <tbody>\n",
       "    <tr>\n",
       "      <th>0</th>\n",
       "      <td>Eric Cruz</td>\n",
       "      <td>Eric Cruz</td>\n",
       "      <td>https://www.linkedin.com/in/eric-cruz-07124651/</td>\n",
       "      <td>Finance | IT | Data Science |</td>\n",
       "      <td>New Rochelle, New York</td>\n",
       "      <td>Not Found</td>\n",
       "      <td>[]</td>\n",
       "      <td>[]</td>\n",
       "    </tr>\n",
       "  </tbody>\n",
       "</table>\n",
       "</div>"
      ],
      "text/plain": [
       "        Name      LName                                     SearchResult  \\\n",
       "0  Eric Cruz  Eric Cruz  https://www.linkedin.com/in/eric-cruz-07124651/   \n",
       "\n",
       "                        Headline                Location    Company School  \\\n",
       "0  Finance | IT | Data Science |  New Rochelle, New York  Not Found     []   \n",
       "\n",
       "  Activites  \n",
       "0        []  "
      ]
     },
     "execution_count": 17,
     "metadata": {},
     "output_type": "execute_result"
    }
   ],
   "source": [
    "df"
   ]
  },
  {
   "cell_type": "code",
   "execution_count": 18,
   "metadata": {},
   "outputs": [],
   "source": [
    "namelist = pd.read_csv('NamelistYaleW2.csv')\n",
    "names = pd.read_csv('NamelistYaleW2.csv')\n",
    "companies = pd.read_csv('CriterialistYaleW2.csv')\n",
    "names = pd.DataFrame(names).to_numpy()\n",
    "companies = pd.DataFrame(companies).to_numpy()"
   ]
  },
  {
   "cell_type": "code",
   "execution_count": 19,
   "metadata": {},
   "outputs": [
    {
     "name": "stdout",
     "output_type": "stream",
     "text": [
      "['Sally MacPartland Yale']\n",
      "['Elizabeth Auchincloss Yale']\n",
      "['Linden Havemeyer Yale']\n",
      "['Louise Lippincott Yale']\n",
      "['A. Julianna Gulya Yale']\n",
      "['Susan Gootrad Yale']\n",
      "['Barbara Krasa Yale']\n",
      "['Jani Rachelson Yale']\n",
      "['Sarah Muyskens Yale']\n",
      "['Kelly McCaffrey Yale']\n",
      "['Christin Mamiya Yale']\n",
      "['Jessie-Kay Cheng Yale']\n",
      "['Francine Hanberg Yale']\n",
      "['Abbe Anderson Yale']\n",
      "['Martha Mahoney Yale']\n",
      "['Anne Seidler Yale']\n",
      "['Sylvia Madrigan Yale']\n",
      "['Valerie Tebbetts Yale']\n",
      "['Celia Moffie Yale']\n",
      "['Lynn Garfinkle Yale']\n",
      "['Sally Sprole Yale']\n",
      "['Caroline McAlister Yale']\n",
      "['Nancy Zetley Yale']\n",
      "['Sherry Licht Yale']\n",
      "['Joanne Van Woert Yale']\n",
      "['Randee Farfel Yale']\n",
      "['Rosemind White Yale']\n",
      "['Wendy Fischl Yale']\n",
      "['Katherine Gressens Yale']\n",
      "['Susan Liebowitz Yale']\n",
      "['Debra Havdala Yale']\n",
      "['Laura Spadone Yale']\n",
      "['Bettina Unhoch Yale']\n",
      "['Sangeeta Hingorani Yale']\n",
      "['Lori Steinberg Yale']\n",
      "['Carolyn Hatcher Yale']\n",
      "['Leslie Fahrenkopf Yale']\n",
      "['Amy Altschul Yale']\n",
      "['Jamie Resnick Yale']\n",
      "['Nina Bertsch Yale']\n",
      "['Atara Stember Yale']\n",
      "['Katherine Rhee Yale']\n",
      "['Somer Khanlarian Yale']\n",
      "['Sara Naison-Phillips Yale']\n",
      "['Christina Blodgett Yale']\n",
      "['Jacklyn Fu Yale']\n",
      "['Ashlee Ferlito Yale']\n",
      "['Bronson Oosterhuis Yale']\n",
      "['Susan Hiniker Yale']\n",
      "['Karlyn Martin Yale']\n",
      "['Rekha Natrajan Yale']\n",
      "['Camilla Hsu Yale']\n",
      "['Karolina Grygierowska Yale']\n",
      "['Sarah Lederhandler Yale']\n",
      "['Raissa Lou Yale']\n",
      "['Samantha Martinelli Yale']\n",
      "['Rhea Shrivastava Yale']\n"
     ]
    }
   ],
   "source": [
    "query = []\n",
    "Name = []\n",
    "for name, company in zip(names, companies): \n",
    "    Name = name\n",
    "    query = name + company\n",
    "    searchname.send_keys(query)\n",
    "    driver.find_element_by_class_name(\"search-global-typeahead__controls\")\n",
    "    clicksearch = driver.find_element_by_class_name(\"search-global-typeahead__controls\")\n",
    "    clicksearch.click()\n",
    "    time.sleep(2)\n",
    "    try:\n",
    "        driver.find_element_by_xpath('//span[@class=\"name actor-name\"]').click()\n",
    "        time.sleep(2)\n",
    "        searchresult = driver.current_url\n",
    "    except Exception:\n",
    "        print(query)\n",
    "        driver.find_element_by_class_name(\"search-global-typeahead__input.always-show-placeholder\")\n",
    "        searchname = driver.find_element_by_class_name(\"search-global-typeahead__input.always-show-placeholder\")        \n",
    "        searchname.clear()\n",
    "        time.sleep(1)\n",
    "        driver.find_element_by_class_name(\"search-global-typeahead__controls\")\n",
    "        clicksearch = driver.find_element_by_class_name(\"search-global-typeahead__controls\")\n",
    "        clicksearch.click()\n",
    "        time.sleep(1)\n",
    "        clicksearch.click()\n",
    "    else:\n",
    "        sel=Selector(text=driver.page_source)\n",
    "        name = sel.xpath('//*[starts-with(@class, \"inline t-24\")]/text()').extract_first()\n",
    "        if name is None:\n",
    "            name = \"Not Found\"\n",
    "        LName = name.strip()\n",
    "#time.sleep(5)\n",
    "        headline = sel.xpath('//*[starts-with(@class, \"mt1 t-18\")]/text()').extract_first()\n",
    "        if headline is None:\n",
    "            headline = \"Not Found\"\n",
    "        headline = headline.strip()\n",
    "#time.sleep(5)\n",
    "        location = sel.xpath('//*[starts-with(@class, \"t-16\")]/text()').extract_first()\n",
    "        if location is None:\n",
    "            location = \"Not Found\"\n",
    "        location = location.strip()\n",
    "        time.sleep(2)\n",
    "        company = sel.xpath('//*[starts-with(@class, \"pv-entity__secondary-title\")]/text()').extract_first()\n",
    "        if company is None:\n",
    "            company = \"Not Found\"\n",
    "        company = company.strip()\n",
    "#time.sleep(5)\n",
    "        school = sel.xpath('//*[starts-with(@class, \"pv-entity__school-name\")]/text()').getall()\n",
    "#time.sleep(5)\n",
    "        activities = sel.xpath('//*[starts-with(@class, \"activities-societies\")]/text()').getall()\n",
    "#time.sleep(5)\n",
    "        tempdf = pd.DataFrame({\n",
    "        'Name':[Name], \n",
    "        'LName' :[LName],\n",
    "        'SearchResult':[searchresult], \n",
    "        'Headline':[headline], \n",
    "        'Location':[location], \n",
    "        'Company':[company],\n",
    "        'School':[school],\n",
    "        'Activites':[activities]    \n",
    "        })\n",
    "        df=df.append(tempdf)"
   ]
  },
  {
   "cell_type": "code",
   "execution_count": 20,
   "metadata": {},
   "outputs": [],
   "source": [
    "#names"
   ]
  },
  {
   "cell_type": "code",
   "execution_count": 21,
   "metadata": {},
   "outputs": [],
   "source": [
    "#namelist"
   ]
  },
  {
   "cell_type": "code",
   "execution_count": 22,
   "metadata": {},
   "outputs": [],
   "source": [
    "df.reset_index(drop=True, inplace=True)"
   ]
  },
  {
   "cell_type": "code",
   "execution_count": 23,
   "metadata": {},
   "outputs": [
    {
     "name": "stdout",
     "output_type": "stream",
     "text": [
      "<class 'pandas.core.frame.DataFrame'>\n",
      "RangeIndex: 203 entries, 0 to 202\n",
      "Data columns (total 8 columns):\n",
      "Name            203 non-null object\n",
      "LName           203 non-null object\n",
      "SearchResult    203 non-null object\n",
      "Headline        203 non-null object\n",
      "Location        203 non-null object\n",
      "Company         203 non-null object\n",
      "School          203 non-null object\n",
      "Activites       203 non-null object\n",
      "dtypes: object(8)\n",
      "memory usage: 12.8+ KB\n"
     ]
    }
   ],
   "source": [
    "df.info()"
   ]
  },
  {
   "cell_type": "code",
   "execution_count": 24,
   "metadata": {},
   "outputs": [],
   "source": [
    "df.drop(df.index[0], inplace=True)"
   ]
  },
  {
   "cell_type": "code",
   "execution_count": 25,
   "metadata": {},
   "outputs": [
    {
     "data": {
      "text/html": [
       "<div>\n",
       "<style scoped>\n",
       "    .dataframe tbody tr th:only-of-type {\n",
       "        vertical-align: middle;\n",
       "    }\n",
       "\n",
       "    .dataframe tbody tr th {\n",
       "        vertical-align: top;\n",
       "    }\n",
       "\n",
       "    .dataframe thead th {\n",
       "        text-align: right;\n",
       "    }\n",
       "</style>\n",
       "<table border=\"1\" class=\"dataframe\">\n",
       "  <thead>\n",
       "    <tr style=\"text-align: right;\">\n",
       "      <th></th>\n",
       "      <th>Name</th>\n",
       "      <th>LName</th>\n",
       "      <th>SearchResult</th>\n",
       "      <th>Headline</th>\n",
       "      <th>Location</th>\n",
       "      <th>Company</th>\n",
       "      <th>School</th>\n",
       "      <th>Activites</th>\n",
       "    </tr>\n",
       "  </thead>\n",
       "  <tbody>\n",
       "    <tr>\n",
       "      <th>1</th>\n",
       "      <td>[Sheila Ford]</td>\n",
       "      <td>Brian McManamon</td>\n",
       "      <td>https://www.linkedin.com/in/brian-mcmanamon-65...</td>\n",
       "      <td>Actor at Warner Bros. Entertainment Group of C...</td>\n",
       "      <td>Greater New York City Area</td>\n",
       "      <td>Not Found</td>\n",
       "      <td>[]</td>\n",
       "      <td>[]</td>\n",
       "    </tr>\n",
       "    <tr>\n",
       "      <th>2</th>\n",
       "      <td>[Sarah Fox]</td>\n",
       "      <td>Sarah Fox</td>\n",
       "      <td>https://www.linkedin.com/in/sarah-fox-8a2977191/</td>\n",
       "      <td>Musician, Historian, Poet  at Yale Institute o...</td>\n",
       "      <td>Hartford, Connecticut Area</td>\n",
       "      <td>Yale Institute of Sacred Music</td>\n",
       "      <td>[]</td>\n",
       "      <td>[]</td>\n",
       "    </tr>\n",
       "    <tr>\n",
       "      <th>3</th>\n",
       "      <td>[Diane Straus]</td>\n",
       "      <td>Diane Strauss</td>\n",
       "      <td>https://www.linkedin.com/in/diane-strauss-4307...</td>\n",
       "      <td>Research Director, Yale Initiative for Sustain...</td>\n",
       "      <td>Paris Area, France</td>\n",
       "      <td>Yale University</td>\n",
       "      <td>[Sciences-PO Bordeaux, Sciences-PO Strasbourg]</td>\n",
       "      <td>[Le Cid Citrique association, theater improvis...</td>\n",
       "    </tr>\n",
       "    <tr>\n",
       "      <th>4</th>\n",
       "      <td>[Lucy Daggett]</td>\n",
       "      <td>Lucy Daggett</td>\n",
       "      <td>https://www.linkedin.com/in/lucy-daggett-96064...</td>\n",
       "      <td>High School Guidance Counselor</td>\n",
       "      <td>San Francisco Bay Area</td>\n",
       "      <td>Pittsburg Unified School District</td>\n",
       "      <td>[Yale University, California State University ...</td>\n",
       "      <td>[]</td>\n",
       "    </tr>\n",
       "    <tr>\n",
       "      <th>5</th>\n",
       "      <td>[Margaret Mercer]</td>\n",
       "      <td>Margaret Pfister</td>\n",
       "      <td>https://www.linkedin.com/in/margaret-pfister-5...</td>\n",
       "      <td>Staff Physician at VNA Health Care</td>\n",
       "      <td>Greater Chicago Area</td>\n",
       "      <td>VNA Health Care</td>\n",
       "      <td>[Northwestern University - The Feinberg School...</td>\n",
       "      <td>[]</td>\n",
       "    </tr>\n",
       "    <tr>\n",
       "      <th>...</th>\n",
       "      <td>...</td>\n",
       "      <td>...</td>\n",
       "      <td>...</td>\n",
       "      <td>...</td>\n",
       "      <td>...</td>\n",
       "      <td>...</td>\n",
       "      <td>...</td>\n",
       "      <td>...</td>\n",
       "    </tr>\n",
       "    <tr>\n",
       "      <th>198</th>\n",
       "      <td>[Lauren Gillinov]</td>\n",
       "      <td>Lauren Gillinov</td>\n",
       "      <td>https://www.linkedin.com/in/lauren-gillinov-26...</td>\n",
       "      <td>Student at Yale University</td>\n",
       "      <td>Chagrin Falls, Ohio</td>\n",
       "      <td>Not Found</td>\n",
       "      <td>[Yale University]</td>\n",
       "      <td>[]</td>\n",
       "    </tr>\n",
       "    <tr>\n",
       "      <th>199</th>\n",
       "      <td>[Vivian Cheng]</td>\n",
       "      <td>Vivian Cheng</td>\n",
       "      <td>https://www.linkedin.com/in/vivian-cheng-64178...</td>\n",
       "      <td>Student at Yale University</td>\n",
       "      <td>New Haven County, Connecticut, United States</td>\n",
       "      <td></td>\n",
       "      <td>[Yale University]</td>\n",
       "      <td>[]</td>\n",
       "    </tr>\n",
       "    <tr>\n",
       "      <th>200</th>\n",
       "      <td>[Rena Lin]</td>\n",
       "      <td>Yuan-Chen Li</td>\n",
       "      <td>https://www.linkedin.com/in/yuan-chen-li-58b45...</td>\n",
       "      <td>A human being first, then an artist and educat...</td>\n",
       "      <td>Portland, Oregon</td>\n",
       "      <td>Not Found</td>\n",
       "      <td>[]</td>\n",
       "      <td>[]</td>\n",
       "    </tr>\n",
       "    <tr>\n",
       "      <th>201</th>\n",
       "      <td>[Chelsea Kung]</td>\n",
       "      <td>Loukas Karampogias</td>\n",
       "      <td>https://www.linkedin.com/in/karampogias/</td>\n",
       "      <td>MRICS; EUR ING; MSc, MBA, Dipl.-Ing</td>\n",
       "      <td>London, England Metropolitan Area</td>\n",
       "      <td>Not Found</td>\n",
       "      <td>[]</td>\n",
       "      <td>[]</td>\n",
       "    </tr>\n",
       "    <tr>\n",
       "      <th>202</th>\n",
       "      <td>[Kathy Wang]</td>\n",
       "      <td>Kathy Wang</td>\n",
       "      <td>https://www.linkedin.com/in/kathy-wang-36a6a7170/</td>\n",
       "      <td>Computer Science and Economics Major at Yale U...</td>\n",
       "      <td>Greater San Diego Area</td>\n",
       "      <td>Pokewan</td>\n",
       "      <td>[Yale University, The London School of Economi...</td>\n",
       "      <td>[Yale Women's Tennis, Fair Haven Tutoring, New...</td>\n",
       "    </tr>\n",
       "  </tbody>\n",
       "</table>\n",
       "<p>202 rows × 8 columns</p>\n",
       "</div>"
      ],
      "text/plain": [
       "                  Name               LName  \\\n",
       "1        [Sheila Ford]     Brian McManamon   \n",
       "2          [Sarah Fox]           Sarah Fox   \n",
       "3       [Diane Straus]       Diane Strauss   \n",
       "4       [Lucy Daggett]        Lucy Daggett   \n",
       "5    [Margaret Mercer]    Margaret Pfister   \n",
       "..                 ...                 ...   \n",
       "198  [Lauren Gillinov]     Lauren Gillinov   \n",
       "199     [Vivian Cheng]        Vivian Cheng   \n",
       "200         [Rena Lin]        Yuan-Chen Li   \n",
       "201     [Chelsea Kung]  Loukas Karampogias   \n",
       "202       [Kathy Wang]          Kathy Wang   \n",
       "\n",
       "                                          SearchResult  \\\n",
       "1    https://www.linkedin.com/in/brian-mcmanamon-65...   \n",
       "2     https://www.linkedin.com/in/sarah-fox-8a2977191/   \n",
       "3    https://www.linkedin.com/in/diane-strauss-4307...   \n",
       "4    https://www.linkedin.com/in/lucy-daggett-96064...   \n",
       "5    https://www.linkedin.com/in/margaret-pfister-5...   \n",
       "..                                                 ...   \n",
       "198  https://www.linkedin.com/in/lauren-gillinov-26...   \n",
       "199  https://www.linkedin.com/in/vivian-cheng-64178...   \n",
       "200  https://www.linkedin.com/in/yuan-chen-li-58b45...   \n",
       "201           https://www.linkedin.com/in/karampogias/   \n",
       "202  https://www.linkedin.com/in/kathy-wang-36a6a7170/   \n",
       "\n",
       "                                              Headline  \\\n",
       "1    Actor at Warner Bros. Entertainment Group of C...   \n",
       "2    Musician, Historian, Poet  at Yale Institute o...   \n",
       "3    Research Director, Yale Initiative for Sustain...   \n",
       "4                       High School Guidance Counselor   \n",
       "5                   Staff Physician at VNA Health Care   \n",
       "..                                                 ...   \n",
       "198                         Student at Yale University   \n",
       "199                         Student at Yale University   \n",
       "200  A human being first, then an artist and educat...   \n",
       "201                MRICS; EUR ING; MSc, MBA, Dipl.-Ing   \n",
       "202  Computer Science and Economics Major at Yale U...   \n",
       "\n",
       "                                         Location  \\\n",
       "1                      Greater New York City Area   \n",
       "2                      Hartford, Connecticut Area   \n",
       "3                              Paris Area, France   \n",
       "4                          San Francisco Bay Area   \n",
       "5                            Greater Chicago Area   \n",
       "..                                            ...   \n",
       "198                           Chagrin Falls, Ohio   \n",
       "199  New Haven County, Connecticut, United States   \n",
       "200                              Portland, Oregon   \n",
       "201             London, England Metropolitan Area   \n",
       "202                        Greater San Diego Area   \n",
       "\n",
       "                               Company  \\\n",
       "1                            Not Found   \n",
       "2       Yale Institute of Sacred Music   \n",
       "3                      Yale University   \n",
       "4    Pittsburg Unified School District   \n",
       "5                      VNA Health Care   \n",
       "..                                 ...   \n",
       "198                          Not Found   \n",
       "199                                      \n",
       "200                          Not Found   \n",
       "201                          Not Found   \n",
       "202                            Pokewan   \n",
       "\n",
       "                                                School  \\\n",
       "1                                                   []   \n",
       "2                                                   []   \n",
       "3       [Sciences-PO Bordeaux, Sciences-PO Strasbourg]   \n",
       "4    [Yale University, California State University ...   \n",
       "5    [Northwestern University - The Feinberg School...   \n",
       "..                                                 ...   \n",
       "198                                  [Yale University]   \n",
       "199                                  [Yale University]   \n",
       "200                                                 []   \n",
       "201                                                 []   \n",
       "202  [Yale University, The London School of Economi...   \n",
       "\n",
       "                                             Activites  \n",
       "1                                                   []  \n",
       "2                                                   []  \n",
       "3    [Le Cid Citrique association, theater improvis...  \n",
       "4                                                   []  \n",
       "5                                                   []  \n",
       "..                                                 ...  \n",
       "198                                                 []  \n",
       "199                                                 []  \n",
       "200                                                 []  \n",
       "201                                                 []  \n",
       "202  [Yale Women's Tennis, Fair Haven Tutoring, New...  \n",
       "\n",
       "[202 rows x 8 columns]"
      ]
     },
     "execution_count": 25,
     "metadata": {},
     "output_type": "execute_result"
    }
   ],
   "source": [
    "df"
   ]
  },
  {
   "cell_type": "code",
   "execution_count": 26,
   "metadata": {},
   "outputs": [
    {
     "name": "stdout",
     "output_type": "stream",
     "text": [
      "<class 'pandas.core.frame.DataFrame'>\n",
      "Int64Index: 202 entries, 1 to 202\n",
      "Data columns (total 8 columns):\n",
      "Name            202 non-null object\n",
      "LName           202 non-null object\n",
      "SearchResult    202 non-null object\n",
      "Headline        202 non-null object\n",
      "Location        202 non-null object\n",
      "Company         202 non-null object\n",
      "School          202 non-null object\n",
      "Activites       202 non-null object\n",
      "dtypes: object(8)\n",
      "memory usage: 14.2+ KB\n"
     ]
    }
   ],
   "source": [
    "df.info()"
   ]
  },
  {
   "cell_type": "code",
   "execution_count": 27,
   "metadata": {},
   "outputs": [
    {
     "data": {
      "text/html": [
       "<div>\n",
       "<style scoped>\n",
       "    .dataframe tbody tr th:only-of-type {\n",
       "        vertical-align: middle;\n",
       "    }\n",
       "\n",
       "    .dataframe tbody tr th {\n",
       "        vertical-align: top;\n",
       "    }\n",
       "\n",
       "    .dataframe thead th {\n",
       "        text-align: right;\n",
       "    }\n",
       "</style>\n",
       "<table border=\"1\" class=\"dataframe\">\n",
       "  <thead>\n",
       "    <tr style=\"text-align: right;\">\n",
       "      <th></th>\n",
       "      <th>Name</th>\n",
       "      <th>LName</th>\n",
       "      <th>SearchResult</th>\n",
       "      <th>Headline</th>\n",
       "      <th>Location</th>\n",
       "      <th>Company</th>\n",
       "      <th>School</th>\n",
       "      <th>Activites</th>\n",
       "    </tr>\n",
       "  </thead>\n",
       "  <tbody>\n",
       "    <tr>\n",
       "      <th>count</th>\n",
       "      <td>202</td>\n",
       "      <td>202</td>\n",
       "      <td>202</td>\n",
       "      <td>202</td>\n",
       "      <td>202</td>\n",
       "      <td>202</td>\n",
       "      <td>202</td>\n",
       "      <td>202</td>\n",
       "    </tr>\n",
       "    <tr>\n",
       "      <th>unique</th>\n",
       "      <td>202</td>\n",
       "      <td>193</td>\n",
       "      <td>193</td>\n",
       "      <td>185</td>\n",
       "      <td>92</td>\n",
       "      <td>149</td>\n",
       "      <td>134</td>\n",
       "      <td>73</td>\n",
       "    </tr>\n",
       "    <tr>\n",
       "      <th>top</th>\n",
       "      <td>[Ree Ree Li]</td>\n",
       "      <td>' Ross Gagné, MBA, Your curiosity is welcome☻</td>\n",
       "      <td>https://www.linkedin.com/in/rossgagne/</td>\n",
       "      <td>Student at Yale University</td>\n",
       "      <td>Greater New York City Area</td>\n",
       "      <td>Not Found</td>\n",
       "      <td>[]</td>\n",
       "      <td>[]</td>\n",
       "    </tr>\n",
       "    <tr>\n",
       "      <th>freq</th>\n",
       "      <td>1</td>\n",
       "      <td>7</td>\n",
       "      <td>7</td>\n",
       "      <td>8</td>\n",
       "      <td>26</td>\n",
       "      <td>32</td>\n",
       "      <td>32</td>\n",
       "      <td>127</td>\n",
       "    </tr>\n",
       "  </tbody>\n",
       "</table>\n",
       "</div>"
      ],
      "text/plain": [
       "                Name                                          LName  \\\n",
       "count            202                                            202   \n",
       "unique           202                                            193   \n",
       "top     [Ree Ree Li]  ' Ross Gagné, MBA, Your curiosity is welcome☻   \n",
       "freq               1                                              7   \n",
       "\n",
       "                                  SearchResult                    Headline  \\\n",
       "count                                      202                         202   \n",
       "unique                                     193                         185   \n",
       "top     https://www.linkedin.com/in/rossgagne/  Student at Yale University   \n",
       "freq                                         7                           8   \n",
       "\n",
       "                          Location    Company School Activites  \n",
       "count                          202        202    202       202  \n",
       "unique                          92        149    134        73  \n",
       "top     Greater New York City Area  Not Found     []        []  \n",
       "freq                            26         32     32       127  "
      ]
     },
     "execution_count": 27,
     "metadata": {},
     "output_type": "execute_result"
    }
   ],
   "source": [
    "df.describe()"
   ]
  },
  {
   "cell_type": "code",
   "execution_count": 28,
   "metadata": {},
   "outputs": [
    {
     "data": {
      "text/plain": [
       "Name            0\n",
       "LName           0\n",
       "SearchResult    0\n",
       "Headline        0\n",
       "Location        0\n",
       "Company         0\n",
       "School          0\n",
       "Activites       0\n",
       "dtype: int64"
      ]
     },
     "execution_count": 28,
     "metadata": {},
     "output_type": "execute_result"
    }
   ],
   "source": [
    "df.isnull().sum()"
   ]
  },
  {
   "cell_type": "code",
   "execution_count": 29,
   "metadata": {},
   "outputs": [
    {
     "data": {
      "text/plain": [
       "[]                                                                                                            32\n",
       "[Yale University]                                                                                             24\n",
       "[Concordia University, Université de Sherbrooke, Université du Québec à Montréal]                              7\n",
       "[university of british columbia, Burnaby North Senior Secondary School]                                        4\n",
       "[Harvard Law School, Yale University]                                                                          2\n",
       "                                                                                                              ..\n",
       "[University of Pittsburgh, Carnegie Mellon, Yale University]                                                   1\n",
       "[Yale University, NYU Stern School of Business, Mills College]                                                 1\n",
       "[Joan & Sanford I. Weill Medical College of Cornell University, Yale University]                               1\n",
       "[Dartmouth College - The Tuck School of Business at Dartmouth, Indian School of Business, Yale University]     1\n",
       "[Yale University, Columbia | SIPA]                                                                             1\n",
       "Name: School, Length: 134, dtype: int64"
      ]
     },
     "execution_count": 29,
     "metadata": {},
     "output_type": "execute_result"
    }
   ],
   "source": [
    "df[\"School\"].value_counts()"
   ]
  },
  {
   "cell_type": "code",
   "execution_count": 30,
   "metadata": {},
   "outputs": [],
   "source": [
    "#df.School.unique()"
   ]
  },
  {
   "cell_type": "code",
   "execution_count": 31,
   "metadata": {},
   "outputs": [
    {
     "data": {
      "text/plain": [
       "pandas.core.frame.DataFrame"
      ]
     },
     "execution_count": 31,
     "metadata": {},
     "output_type": "execute_result"
    }
   ],
   "source": [
    "type(df)"
   ]
  },
  {
   "cell_type": "code",
   "execution_count": 32,
   "metadata": {},
   "outputs": [
    {
     "data": {
      "text/plain": [
       "Index(['Name', 'LName', 'SearchResult', 'Headline', 'Location', 'Company',\n",
       "       'School', 'Activites'],\n",
       "      dtype='object')"
      ]
     },
     "execution_count": 32,
     "metadata": {},
     "output_type": "execute_result"
    }
   ],
   "source": [
    "df.columns"
   ]
  },
  {
   "cell_type": "code",
   "execution_count": 34,
   "metadata": {},
   "outputs": [],
   "source": [
    "df.to_csv(\"YaleWomenLinkedIn2.csv\", index=False)"
   ]
  },
  {
   "cell_type": "code",
   "execution_count": null,
   "metadata": {},
   "outputs": [],
   "source": [
    "\n"
   ]
  }
 ],
 "metadata": {
  "kernelspec": {
   "display_name": "Python 3",
   "language": "python",
   "name": "python3"
  },
  "language_info": {
   "codemirror_mode": {
    "name": "ipython",
    "version": 3
   },
   "file_extension": ".py",
   "mimetype": "text/x-python",
   "name": "python",
   "nbconvert_exporter": "python",
   "pygments_lexer": "ipython3",
   "version": "3.7.1"
  }
 },
 "nbformat": 4,
 "nbformat_minor": 2
}
