{
 "cells": [
  {
   "cell_type": "code",
   "execution_count": 21,
   "metadata": {},
   "outputs": [
    {
     "name": "stdout",
     "output_type": "stream",
     "text": [
      "Wall time: 0 ns\n"
     ]
    }
   ],
   "source": [
    "%%time\n",
    "# Import Modules\n",
    "import pandas as pd\n",
    "import matplotlib.pyplot as plt\n",
    "import seaborn as sns\n",
    "import numpy as np\n",
    "pd.options.display.float_format = '{:,.2f}'.format\n",
    "from sklearn.model_selection import train_test_split\n",
    "from sklearn.model_selection import GridSearchCV, RandomizedSearchCV\n",
    "from sklearn.metrics import accuracy_score , confusion_matrix , precision_score , precision_recall_curve , f1_score\n",
    "from sklearn.metrics import classification_report , roc_auc_score, recall_score\n",
    "from sklearn.naive_bayes import MultinomialNB\n",
    "from sklearn.linear_model import LogisticRegression\n",
    "from sklearn.ensemble import RandomForestClassifier\n",
    "from sklearn.preprocessing import StandardScaler\n",
    "from sklearn.neighbors import KNeighborsClassifier\n",
    "from sklearn.pipeline import Pipeline\n",
    "import sklearn.metrics as metrics\n",
    "from joblib import dump, load\n",
    "import joblib"
   ]
  },
  {
   "cell_type": "code",
   "execution_count": 22,
   "metadata": {},
   "outputs": [],
   "source": [
    "rfc = joblib.load('modelmmww.joblib')"
   ]
  },
  {
   "cell_type": "code",
   "execution_count": 23,
   "metadata": {},
   "outputs": [],
   "source": [
    "df = pd.read_csv('RosterLinkedIn_YaleM2.csv')\n",
    "#df2 = pd.read_csv('RosterLinkedIn_CornellW.csv')"
   ]
  },
  {
   "cell_type": "code",
   "execution_count": 24,
   "metadata": {},
   "outputs": [],
   "source": [
    "#df['SameTennis_yn'] = (df['SameName_yn'] + df['tennis_yn'])\n",
    "#df2['SameTennis_yn'] = (df2['SameName_yn'] + df2['tennis_yn'])\n"
   ]
  },
  {
   "cell_type": "code",
   "execution_count": 25,
   "metadata": {},
   "outputs": [
    {
     "name": "stdout",
     "output_type": "stream",
     "text": [
      "<class 'pandas.core.frame.DataFrame'>\n",
      "RangeIndex: 424 entries, 0 to 423\n",
      "Data columns (total 33 columns):\n",
      "FirstLast         424 non-null object\n",
      "Criteria          424 non-null object\n",
      "Year              424 non-null int64\n",
      "YearsPlayed       424 non-null int64\n",
      "RosterLink        40 non-null object\n",
      "Hometown          40 non-null object\n",
      "HS                37 non-null object\n",
      "ClassYear         40 non-null object\n",
      "College           424 non-null object\n",
      "First             424 non-null object\n",
      "Gender            424 non-null int64\n",
      "Last              424 non-null object\n",
      "MidInit           271 non-null object\n",
      "MidName           35 non-null object\n",
      "Name              40 non-null object\n",
      "RosterYear        40 non-null object\n",
      "LName             362 non-null object\n",
      "SearchResult      362 non-null object\n",
      "Headline          362 non-null object\n",
      "Location          362 non-null object\n",
      "Company           350 non-null object\n",
      "School            362 non-null object\n",
      "Activites         362 non-null object\n",
      "fuzz_ratio        362 non-null float64\n",
      "fuzz_pratio       362 non-null float64\n",
      "fuzz_tokensort    362 non-null float64\n",
      "fuzz_tokenset     362 non-null float64\n",
      "fuzz_wratio       362 non-null float64\n",
      "tennis_yn         362 non-null float64\n",
      "School_yn         362 non-null float64\n",
      "SameName_yn       362 non-null float64\n",
      "SameTennis_yn     362 non-null float64\n",
      "Decade            424 non-null int64\n",
      "dtypes: float64(9), int64(4), object(20)\n",
      "memory usage: 109.4+ KB\n"
     ]
    }
   ],
   "source": [
    "df.info()"
   ]
  },
  {
   "cell_type": "code",
   "execution_count": 26,
   "metadata": {},
   "outputs": [],
   "source": [
    "#This was for CornellW_merge which had names with no result, e.g. Nan rows\n",
    "df.dropna(subset = ['SearchResult'], inplace=True)\n",
    "df.set_index('FirstLast', inplace=True, drop=False)\n",
    "df = df.select_dtypes(exclude=['object'])\n",
    "#df_label = df[['EC_Review']]\n",
    "#df.drop(['EC_Review', 'prediction', 'Decade', 'YearsPlayed'], axis=1, inplace=True)"
   ]
  },
  {
   "cell_type": "code",
   "execution_count": 27,
   "metadata": {},
   "outputs": [],
   "source": [
    "#Do not drop duplicates at this stage, because smae LinkedIn returned for several FirstLast names\n",
    "#don't want to drop at index level\n",
    "#df.drop_duplicates(inplace=True)"
   ]
  },
  {
   "cell_type": "code",
   "execution_count": 28,
   "metadata": {},
   "outputs": [],
   "source": [
    "#df.drop(['MidInit', 'MidName'], axis=1, inplace=True)"
   ]
  },
  {
   "cell_type": "code",
   "execution_count": 30,
   "metadata": {},
   "outputs": [
    {
     "data": {
      "text/html": [
       "<div>\n",
       "<style scoped>\n",
       "    .dataframe tbody tr th:only-of-type {\n",
       "        vertical-align: middle;\n",
       "    }\n",
       "\n",
       "    .dataframe tbody tr th {\n",
       "        vertical-align: top;\n",
       "    }\n",
       "\n",
       "    .dataframe thead th {\n",
       "        text-align: right;\n",
       "    }\n",
       "</style>\n",
       "<table border=\"1\" class=\"dataframe\">\n",
       "  <thead>\n",
       "    <tr style=\"text-align: right;\">\n",
       "      <th></th>\n",
       "      <th>Year</th>\n",
       "      <th>YearsPlayed</th>\n",
       "      <th>Gender</th>\n",
       "      <th>fuzz_ratio</th>\n",
       "      <th>fuzz_pratio</th>\n",
       "      <th>fuzz_tokensort</th>\n",
       "      <th>fuzz_tokenset</th>\n",
       "      <th>fuzz_wratio</th>\n",
       "      <th>tennis_yn</th>\n",
       "      <th>School_yn</th>\n",
       "      <th>SameName_yn</th>\n",
       "      <th>SameTennis_yn</th>\n",
       "      <th>Decade</th>\n",
       "    </tr>\n",
       "    <tr>\n",
       "      <th>FirstLast</th>\n",
       "      <th></th>\n",
       "      <th></th>\n",
       "      <th></th>\n",
       "      <th></th>\n",
       "      <th></th>\n",
       "      <th></th>\n",
       "      <th></th>\n",
       "      <th></th>\n",
       "      <th></th>\n",
       "      <th></th>\n",
       "      <th></th>\n",
       "      <th></th>\n",
       "      <th></th>\n",
       "    </tr>\n",
       "  </thead>\n",
       "  <tbody>\n",
       "    <tr>\n",
       "      <th>Victor Kiam</th>\n",
       "      <td>1947</td>\n",
       "      <td>1</td>\n",
       "      <td>1</td>\n",
       "      <td>22.00</td>\n",
       "      <td>27.00</td>\n",
       "      <td>22.00</td>\n",
       "      <td>22.00</td>\n",
       "      <td>22.00</td>\n",
       "      <td>0.00</td>\n",
       "      <td>0.00</td>\n",
       "      <td>0.00</td>\n",
       "      <td>0.00</td>\n",
       "      <td>1940</td>\n",
       "    </tr>\n",
       "    <tr>\n",
       "      <th>Charles Ritchie</th>\n",
       "      <td>1947</td>\n",
       "      <td>2</td>\n",
       "      <td>1</td>\n",
       "      <td>71.00</td>\n",
       "      <td>73.00</td>\n",
       "      <td>45.00</td>\n",
       "      <td>77.00</td>\n",
       "      <td>77.00</td>\n",
       "      <td>0.00</td>\n",
       "      <td>1.00</td>\n",
       "      <td>0.00</td>\n",
       "      <td>0.00</td>\n",
       "      <td>1940</td>\n",
       "    </tr>\n",
       "    <tr>\n",
       "      <th>James Boyle</th>\n",
       "      <td>1947</td>\n",
       "      <td>1</td>\n",
       "      <td>1</td>\n",
       "      <td>100.00</td>\n",
       "      <td>100.00</td>\n",
       "      <td>100.00</td>\n",
       "      <td>100.00</td>\n",
       "      <td>100.00</td>\n",
       "      <td>0.00</td>\n",
       "      <td>1.00</td>\n",
       "      <td>1.00</td>\n",
       "      <td>1.00</td>\n",
       "      <td>1940</td>\n",
       "    </tr>\n",
       "    <tr>\n",
       "      <th>Henry Ewald</th>\n",
       "      <td>1947</td>\n",
       "      <td>1</td>\n",
       "      <td>1</td>\n",
       "      <td>46.00</td>\n",
       "      <td>55.00</td>\n",
       "      <td>46.00</td>\n",
       "      <td>46.00</td>\n",
       "      <td>54.00</td>\n",
       "      <td>0.00</td>\n",
       "      <td>1.00</td>\n",
       "      <td>0.00</td>\n",
       "      <td>0.00</td>\n",
       "      <td>1940</td>\n",
       "    </tr>\n",
       "    <tr>\n",
       "      <th>Robert Sutton</th>\n",
       "      <td>1947</td>\n",
       "      <td>1</td>\n",
       "      <td>1</td>\n",
       "      <td>87.00</td>\n",
       "      <td>70.00</td>\n",
       "      <td>87.00</td>\n",
       "      <td>87.00</td>\n",
       "      <td>87.00</td>\n",
       "      <td>0.00</td>\n",
       "      <td>0.00</td>\n",
       "      <td>0.00</td>\n",
       "      <td>0.00</td>\n",
       "      <td>1940</td>\n",
       "    </tr>\n",
       "    <tr>\n",
       "      <th>...</th>\n",
       "      <td>...</td>\n",
       "      <td>...</td>\n",
       "      <td>...</td>\n",
       "      <td>...</td>\n",
       "      <td>...</td>\n",
       "      <td>...</td>\n",
       "      <td>...</td>\n",
       "      <td>...</td>\n",
       "      <td>...</td>\n",
       "      <td>...</td>\n",
       "      <td>...</td>\n",
       "      <td>...</td>\n",
       "      <td>...</td>\n",
       "    </tr>\n",
       "    <tr>\n",
       "      <th>Daniel Gale</th>\n",
       "      <td>2020</td>\n",
       "      <td>1</td>\n",
       "      <td>1</td>\n",
       "      <td>67.00</td>\n",
       "      <td>73.00</td>\n",
       "      <td>67.00</td>\n",
       "      <td>71.00</td>\n",
       "      <td>67.00</td>\n",
       "      <td>0.00</td>\n",
       "      <td>1.00</td>\n",
       "      <td>0.00</td>\n",
       "      <td>0.00</td>\n",
       "      <td>2020</td>\n",
       "    </tr>\n",
       "    <tr>\n",
       "      <th>Ryan Cheng</th>\n",
       "      <td>2020</td>\n",
       "      <td>4</td>\n",
       "      <td>1</td>\n",
       "      <td>63.00</td>\n",
       "      <td>67.00</td>\n",
       "      <td>63.00</td>\n",
       "      <td>63.00</td>\n",
       "      <td>63.00</td>\n",
       "      <td>0.00</td>\n",
       "      <td>0.00</td>\n",
       "      <td>0.00</td>\n",
       "      <td>0.00</td>\n",
       "      <td>2020</td>\n",
       "    </tr>\n",
       "    <tr>\n",
       "      <th>Dylan King</th>\n",
       "      <td>2020</td>\n",
       "      <td>4</td>\n",
       "      <td>1</td>\n",
       "      <td>78.00</td>\n",
       "      <td>88.00</td>\n",
       "      <td>82.00</td>\n",
       "      <td>83.00</td>\n",
       "      <td>82.00</td>\n",
       "      <td>1.00</td>\n",
       "      <td>1.00</td>\n",
       "      <td>0.00</td>\n",
       "      <td>1.00</td>\n",
       "      <td>2020</td>\n",
       "    </tr>\n",
       "    <tr>\n",
       "      <th>Cody Lin</th>\n",
       "      <td>2020</td>\n",
       "      <td>3</td>\n",
       "      <td>1</td>\n",
       "      <td>80.00</td>\n",
       "      <td>86.00</td>\n",
       "      <td>86.00</td>\n",
       "      <td>86.00</td>\n",
       "      <td>86.00</td>\n",
       "      <td>1.00</td>\n",
       "      <td>1.00</td>\n",
       "      <td>0.00</td>\n",
       "      <td>1.00</td>\n",
       "      <td>2020</td>\n",
       "    </tr>\n",
       "    <tr>\n",
       "      <th>Alan Sou</th>\n",
       "      <td>2020</td>\n",
       "      <td>3</td>\n",
       "      <td>1</td>\n",
       "      <td>100.00</td>\n",
       "      <td>100.00</td>\n",
       "      <td>100.00</td>\n",
       "      <td>100.00</td>\n",
       "      <td>100.00</td>\n",
       "      <td>0.00</td>\n",
       "      <td>1.00</td>\n",
       "      <td>1.00</td>\n",
       "      <td>1.00</td>\n",
       "      <td>2020</td>\n",
       "    </tr>\n",
       "  </tbody>\n",
       "</table>\n",
       "<p>362 rows × 13 columns</p>\n",
       "</div>"
      ],
      "text/plain": [
       "                 Year  YearsPlayed  Gender  fuzz_ratio  fuzz_pratio  \\\n",
       "FirstLast                                                             \n",
       "Victor Kiam      1947            1       1       22.00        27.00   \n",
       "Charles Ritchie  1947            2       1       71.00        73.00   \n",
       "James Boyle      1947            1       1      100.00       100.00   \n",
       "Henry Ewald      1947            1       1       46.00        55.00   \n",
       "Robert Sutton    1947            1       1       87.00        70.00   \n",
       "...               ...          ...     ...         ...          ...   \n",
       "Daniel Gale      2020            1       1       67.00        73.00   \n",
       "Ryan Cheng       2020            4       1       63.00        67.00   \n",
       "Dylan King       2020            4       1       78.00        88.00   \n",
       "Cody Lin         2020            3       1       80.00        86.00   \n",
       "Alan Sou         2020            3       1      100.00       100.00   \n",
       "\n",
       "                 fuzz_tokensort  fuzz_tokenset  fuzz_wratio  tennis_yn  \\\n",
       "FirstLast                                                                \n",
       "Victor Kiam               22.00          22.00        22.00       0.00   \n",
       "Charles Ritchie           45.00          77.00        77.00       0.00   \n",
       "James Boyle              100.00         100.00       100.00       0.00   \n",
       "Henry Ewald               46.00          46.00        54.00       0.00   \n",
       "Robert Sutton             87.00          87.00        87.00       0.00   \n",
       "...                         ...            ...          ...        ...   \n",
       "Daniel Gale               67.00          71.00        67.00       0.00   \n",
       "Ryan Cheng                63.00          63.00        63.00       0.00   \n",
       "Dylan King                82.00          83.00        82.00       1.00   \n",
       "Cody Lin                  86.00          86.00        86.00       1.00   \n",
       "Alan Sou                 100.00         100.00       100.00       0.00   \n",
       "\n",
       "                 School_yn  SameName_yn  SameTennis_yn  Decade  \n",
       "FirstLast                                                       \n",
       "Victor Kiam           0.00         0.00           0.00    1940  \n",
       "Charles Ritchie       1.00         0.00           0.00    1940  \n",
       "James Boyle           1.00         1.00           1.00    1940  \n",
       "Henry Ewald           1.00         0.00           0.00    1940  \n",
       "Robert Sutton         0.00         0.00           0.00    1940  \n",
       "...                    ...          ...            ...     ...  \n",
       "Daniel Gale           1.00         0.00           0.00    2020  \n",
       "Ryan Cheng            0.00         0.00           0.00    2020  \n",
       "Dylan King            1.00         0.00           1.00    2020  \n",
       "Cody Lin              1.00         0.00           1.00    2020  \n",
       "Alan Sou              1.00         1.00           1.00    2020  \n",
       "\n",
       "[362 rows x 13 columns]"
      ]
     },
     "execution_count": 30,
     "metadata": {},
     "output_type": "execute_result"
    }
   ],
   "source": [
    "df"
   ]
  },
  {
   "cell_type": "code",
   "execution_count": 31,
   "metadata": {},
   "outputs": [
    {
     "name": "stdout",
     "output_type": "stream",
     "text": [
      "<class 'pandas.core.frame.DataFrame'>\n",
      "Index: 362 entries, Victor Kiam to Alan Sou\n",
      "Data columns (total 13 columns):\n",
      "Year              362 non-null int64\n",
      "YearsPlayed       362 non-null int64\n",
      "Gender            362 non-null int64\n",
      "fuzz_ratio        362 non-null float64\n",
      "fuzz_pratio       362 non-null float64\n",
      "fuzz_tokensort    362 non-null float64\n",
      "fuzz_tokenset     362 non-null float64\n",
      "fuzz_wratio       362 non-null float64\n",
      "tennis_yn         362 non-null float64\n",
      "School_yn         362 non-null float64\n",
      "SameName_yn       362 non-null float64\n",
      "SameTennis_yn     362 non-null float64\n",
      "Decade            362 non-null int64\n",
      "dtypes: float64(9), int64(4)\n",
      "memory usage: 39.6+ KB\n"
     ]
    }
   ],
   "source": [
    "df.info()"
   ]
  },
  {
   "cell_type": "code",
   "execution_count": 32,
   "metadata": {},
   "outputs": [],
   "source": [
    "X = df.values"
   ]
  },
  {
   "cell_type": "code",
   "execution_count": 33,
   "metadata": {},
   "outputs": [
    {
     "data": {
      "text/plain": [
       "(362, 13)"
      ]
     },
     "execution_count": 33,
     "metadata": {},
     "output_type": "execute_result"
    }
   ],
   "source": [
    "X.shape"
   ]
  },
  {
   "cell_type": "code",
   "execution_count": 34,
   "metadata": {},
   "outputs": [
    {
     "data": {
      "text/plain": [
       "GridSearchCV(cv=5, error_score='raise-deprecating',\n",
       "             estimator=Pipeline(memory=None,\n",
       "                                steps=[('scaler',\n",
       "                                        StandardScaler(copy=True,\n",
       "                                                       with_mean=True,\n",
       "                                                       with_std=True)),\n",
       "                                       ('rfc',\n",
       "                                        RandomForestClassifier(bootstrap=True,\n",
       "                                                               class_weight=None,\n",
       "                                                               criterion='gini',\n",
       "                                                               max_depth=None,\n",
       "                                                               max_features='auto',\n",
       "                                                               max_leaf_nodes=None,\n",
       "                                                               min_impurity_decrease=0.0,\n",
       "                                                               min_impurity_split=None,\n",
       "                                                               min_samples...\n",
       "                                                               min_samples_split=2,\n",
       "                                                               min_weight_fraction_leaf=0.0,\n",
       "                                                               n_estimators=10,\n",
       "                                                               n_jobs=None,\n",
       "                                                               oob_score=False,\n",
       "                                                               random_state=None,\n",
       "                                                               verbose=0,\n",
       "                                                               warm_start=False))],\n",
       "                                verbose=False),\n",
       "             iid='warn', n_jobs=-1,\n",
       "             param_grid={'rfc__class_weight': [None],\n",
       "                         'rfc__criterion': ['entropy'],\n",
       "                         'rfc__max_depth': [30]},\n",
       "             pre_dispatch='2*n_jobs', refit=True, return_train_score=False,\n",
       "             scoring=None, verbose=True)"
      ]
     },
     "execution_count": 34,
     "metadata": {},
     "output_type": "execute_result"
    }
   ],
   "source": [
    "rfc"
   ]
  },
  {
   "cell_type": "code",
   "execution_count": 35,
   "metadata": {},
   "outputs": [],
   "source": [
    "rfcpredictX = rfc.predict(X)"
   ]
  },
  {
   "cell_type": "code",
   "execution_count": 36,
   "metadata": {},
   "outputs": [
    {
     "data": {
      "text/plain": [
       "array([0., 0., 0., 0., 0., 0., 0., 0., 0., 0., 0., 0., 0., 0., 0., 0., 0.,\n",
       "       0., 0., 0., 0., 0., 0., 0., 0., 0., 0., 0., 0., 0., 0., 1., 0., 0.,\n",
       "       0., 0., 0., 0., 0., 0., 0., 0., 0., 0., 0., 0., 0., 0., 0., 0., 0.,\n",
       "       0., 0., 0., 0., 0., 0., 0., 0., 0., 1., 0., 0., 0., 0., 0., 0., 1.,\n",
       "       0., 0., 1., 1., 0., 0., 0., 0., 0., 0., 0., 0., 0., 0., 0., 0., 0.,\n",
       "       1., 0., 0., 0., 0., 0., 1., 1., 0., 0., 0., 0., 0., 0., 0., 1., 0.,\n",
       "       1., 0., 0., 0., 1., 0., 0., 0., 0., 1., 0., 0., 0., 0., 0., 0., 0.,\n",
       "       0., 0., 0., 0., 0., 0., 1., 0., 0., 1., 0., 0., 0., 1., 0., 0., 0.,\n",
       "       0., 0., 0., 1., 1., 1., 0., 1., 0., 0., 0., 0., 0., 0., 1., 0., 1.,\n",
       "       0., 1., 0., 0., 1., 0., 0., 0., 1., 0., 1., 0., 1., 1., 0., 1., 0.,\n",
       "       0., 1., 0., 0., 0., 0., 1., 0., 0., 0., 0., 0., 0., 0., 0., 0., 0.,\n",
       "       0., 0., 1., 1., 1., 0., 0., 0., 0., 1., 0., 0., 0., 0., 0., 0., 0.,\n",
       "       0., 0., 0., 0., 1., 0., 0., 1., 0., 0., 0., 0., 0., 0., 0., 0., 1.,\n",
       "       0., 0., 1., 0., 1., 0., 0., 0., 0., 0., 0., 0., 0., 1., 0., 1., 0.,\n",
       "       1., 0., 1., 0., 1., 1., 0., 0., 1., 1., 0., 1., 1., 0., 1., 1., 0.,\n",
       "       1., 0., 0., 1., 0., 0., 1., 0., 0., 1., 1., 1., 0., 0., 0., 0., 0.,\n",
       "       1., 0., 1., 1., 0., 0., 1., 0., 0., 0., 0., 1., 1., 1., 1., 0., 0.,\n",
       "       1., 1., 1., 1., 1., 1., 1., 1., 1., 0., 1., 1., 1., 1., 1., 1., 1.,\n",
       "       1., 0., 1., 1., 1., 1., 1., 0., 1., 1., 1., 1., 1., 1., 1., 1., 1.,\n",
       "       0., 1., 1., 1., 1., 1., 1., 1., 1., 1., 1., 1., 1., 1., 1., 1., 1.,\n",
       "       1., 1., 1., 1., 1., 1., 1., 1., 1., 1., 1., 1., 1., 1., 0., 1., 1.,\n",
       "       0., 0., 1., 1., 1.])"
      ]
     },
     "execution_count": 36,
     "metadata": {},
     "output_type": "execute_result"
    }
   ],
   "source": [
    "rfcpredictX"
   ]
  },
  {
   "cell_type": "code",
   "execution_count": 37,
   "metadata": {},
   "outputs": [],
   "source": [
    "df['prediction'] = rfcpredictX"
   ]
  },
  {
   "cell_type": "code",
   "execution_count": 38,
   "metadata": {},
   "outputs": [
    {
     "name": "stdout",
     "output_type": "stream",
     "text": [
      "<class 'pandas.core.frame.DataFrame'>\n",
      "Index: 362 entries, Victor Kiam to Alan Sou\n",
      "Data columns (total 14 columns):\n",
      "Year              362 non-null int64\n",
      "YearsPlayed       362 non-null int64\n",
      "Gender            362 non-null int64\n",
      "fuzz_ratio        362 non-null float64\n",
      "fuzz_pratio       362 non-null float64\n",
      "fuzz_tokensort    362 non-null float64\n",
      "fuzz_tokenset     362 non-null float64\n",
      "fuzz_wratio       362 non-null float64\n",
      "tennis_yn         362 non-null float64\n",
      "School_yn         362 non-null float64\n",
      "SameName_yn       362 non-null float64\n",
      "SameTennis_yn     362 non-null float64\n",
      "Decade            362 non-null int64\n",
      "prediction        362 non-null float64\n",
      "dtypes: float64(10), int64(4)\n",
      "memory usage: 42.4+ KB\n"
     ]
    }
   ],
   "source": [
    "df.info()"
   ]
  },
  {
   "cell_type": "code",
   "execution_count": 39,
   "metadata": {},
   "outputs": [],
   "source": [
    "df.to_csv('Predict_YaleM2_mmww.csv', index=True)"
   ]
  },
  {
   "cell_type": "code",
   "execution_count": null,
   "metadata": {},
   "outputs": [],
   "source": []
  },
  {
   "cell_type": "code",
   "execution_count": null,
   "metadata": {},
   "outputs": [],
   "source": []
  },
  {
   "cell_type": "code",
   "execution_count": null,
   "metadata": {},
   "outputs": [],
   "source": []
  }
 ],
 "metadata": {
  "kernelspec": {
   "display_name": "Python 3",
   "language": "python",
   "name": "python3"
  },
  "language_info": {
   "codemirror_mode": {
    "name": "ipython",
    "version": 3
   },
   "file_extension": ".py",
   "mimetype": "text/x-python",
   "name": "python",
   "nbconvert_exporter": "python",
   "pygments_lexer": "ipython3",
   "version": "3.7.1"
  }
 },
 "nbformat": 4,
 "nbformat_minor": 2
}
